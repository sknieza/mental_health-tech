{
 "cells": [
  {
   "cell_type": "markdown",
   "metadata": {},
   "source": [
    "# Mental Health in the Tech\n",
    "\n",
    "This notebook analyzes the mental health survey results in technology industry. This data comes from Open Source Mental Illness (OSMI) and provides survey data from years 2014, 2016, 2017, 2018 and 2019. The data was collected using open online survey (with the help of Typeform tool), so the sample is not-probability, as no randomization was ensured during its collection. This is important to bear in mind when drawing wider conclusions about the technology sector, let alone the population in general. Sample sizes per year are as follows: \n",
    "\n",
    "| Year | n |\n",
    "|------|------|\n",
    "| 2014 | 1260 |\n",
    "| 2016 | 1433 |\n",
    "| 2017 | 756 |\n",
    "| 2018 | 417 |\n",
    "| 2019 | 352 |\n",
    "|__Total:__| __4218__|\n",
    "\n",
    "However, different questions were asked each year, and there are only several questions (mostly, demographic ones) that overlap each year:\n",
    "\n",
    "| Year | Questions n |\n",
    "|------|------|\n",
    "| 2014 | 26 |\n",
    "| 2016 | 60 |\n",
    "| 2017 | 76 |\n",
    "| 2018 | 76 |\n",
    "| 2019 | 76 |\n",
    "\n",
    "It seems that the latest surveys were the most informative (most questions asked), yet the participation rate is lower. Also, given our task requirements, these 2017-2019 surveys do not cover the question related to diagnosed mental ilnesses which are required for us to answer its prevalence in the population.\n",
    "\n",
    "### Given these initial observations, we can draft our preliminary plan for data analysis:\n",
    "\n",
    "__1. Data input and cleaning__\n",
    "    \n",
    "Here we have to do some manual work, as not all of the questions are relevant for this research, as its scope is limited. We have manually reviewed the survey questions, and selected the most illustrative ones for our approach – demographics, employment status, workplace culture, personal mental health history. Some of the questions are overly repetitive and nuanced to provide any value for our exploration.\n",
    "\n",
    "With SQL query, we select UserID (unique identifier), AnswerText (values), QuestionID (primary / foreign key) and QuestionText, also SurveyID which just represents the survey year. Our initial thinking was to limit our analysis with 2016 results, as they're the most robust (given no. of questions, sample, and required questions for the task). However, to see some patterns year-by-year, we decided to maintain data from other years, as well. We used pandas pivot method to transpose the data frame, using UserID and SurveyID as indices, and QuestionID as features.\n",
    "\n",
    "As QuestionText and QuestionID are both labeling extremes (full question vs. single digit), we manually recoded features to be more convenient to work with.\n",
    "\n",
    "We removed -1 (no answer) and <18 values from age column (some were also negative); there were very few of them, so it didn't make an impact on the data in general.\n",
    "\n",
    "We also simplified the gender column, as non-binary options constitute the minority, and are also littered with junk 'joke' answers.\n",
    "\n",
    "Overall, after the cleaning part, we come up with a dataset with following characteristics:\n",
    "\n",
    "No. of observations: 4206\n",
    "No. of features: 43\n",
    "\n",
    "__2. Socio-demographic description of the dataset__\n",
    "\n",
    "Using functionalities of pandas and plotting libraries, here we analyze main parameters of the dataset, related to demographic criteria (age, gender, employment, organization type and so forth). We also look for changes over time, where possible. \n",
    "\n",
    "The aim of this exercise is to identify possible sampling bias.\n",
    "\n",
    "__3. Exploratory Data Analysis (EDA)__\n",
    "\n",
    "In this part, we delve deeper into analysis, looking for patterns beyond workplace culture, personal mental health history, and socio-demographic factors. For this, we'll generally use data from 2016 onwards, as the initial 2014 questionnaire didn't delve into these questions. \n",
    "\n",
    "__4. Attempt at inference__\n",
    "\n",
    "Given the question on diagnosed mental health diseases, we'll try to use inferential statictics methods to draw insights about the population, constructing and plotting confidence intervals.\n",
    "\n",
    "__5. Summary: key insights and further improvements.__"
   ]
  },
  {
   "cell_type": "code",
   "execution_count": 1,
   "metadata": {},
   "outputs": [
    {
     "name": "stdout",
     "output_type": "stream",
     "text": [
      "   non_null_columns_count\n",
      "0                      26\n"
     ]
    }
   ],
   "source": [
    "### Code used to check for count of non-null features across the surveys / year\n",
    "\n",
    "import pandas as pd\n",
    "import numpy as np\n",
    "import sqlite3 as sqlite3\n",
    "\n",
    "con = sqlite3.connect('dataset/mental_health.sqlite')\n",
    "cur = con.cursor()\n",
    "\n",
    "feature_check = pd.read_sql_query(\"\"\"SELECT COUNT(DISTINCT q.QuestionID) AS non_null_columns_count\n",
    "                                        FROM Answer a\n",
    "                                        JOIN Question q ON q.QuestionID = a.QuestionID\n",
    "                                        JOIN Survey s ON s.SurveyID = a.SurveyID\n",
    "                                        WHERE s.SurveyID = 2014\n",
    "                                        AND a.AnswerText IS NOT NULL;\n",
    "                                  \"\"\", con)\n",
    "\n",
    "print(feature_check)"
   ]
  },
  {
   "cell_type": "markdown",
   "metadata": {},
   "source": [
    "## 01 Loading the database and data cleaning\n",
    "\n",
    "In this section, we load the data set using SQLite and doing some preparatory data wrangling:\n",
    "- pivoting table for analysis;\n",
    "- simplifying age and gender column values;\n",
    "- changing column labels."
   ]
  },
  {
   "cell_type": "code",
   "execution_count": 2,
   "metadata": {},
   "outputs": [],
   "source": [
    "import pandas as pd\n",
    "import numpy as np\n",
    "import sqlite3 as sqlite3\n",
    "import matplotlib.pyplot as plt\n",
    "import seaborn as sns\n",
    "\n",
    "con = sqlite3.connect('dataset/mental_health.sqlite')\n",
    "cur = con.cursor()\n",
    "\n",
    "sql = pd.read_sql_query(\"\"\"SELECT a.UserID, a.SurveyID, q.QuestionID, q.QuestionText, a.AnswerText FROM Answer a \n",
    "                        JOIN Question q ON q.QuestionID = a.QuestionID\n",
    "                        WHERE q.QuestionID IN (1, 2, 3, 4, 5, 50, 51, 89,\n",
    "                                               54, 55, 79, 80, 92, 93, 113, 117, 118,\n",
    "                                               6, 7, 20, 21, 30, 31, 32, 33, 34, 48, 49, 78, 115, 116,\n",
    "                                               8, 9, 13, 68,\n",
    "                                               10, 14, 18, 19, 85, 114)\n",
    "                        \"\"\", con)\n",
    "full_df = pd.DataFrame(sql)\n",
    "con.close()"
   ]
  },
  {
   "cell_type": "code",
   "execution_count": 3,
   "metadata": {},
   "outputs": [
    {
     "data": {
      "text/html": [
       "<div>\n",
       "<style scoped>\n",
       "    .dataframe tbody tr th:only-of-type {\n",
       "        vertical-align: middle;\n",
       "    }\n",
       "\n",
       "    .dataframe tbody tr th {\n",
       "        vertical-align: top;\n",
       "    }\n",
       "\n",
       "    .dataframe thead th {\n",
       "        text-align: right;\n",
       "    }\n",
       "</style>\n",
       "<table border=\"1\" class=\"dataframe\">\n",
       "  <thead>\n",
       "    <tr style=\"text-align: right;\">\n",
       "      <th></th>\n",
       "      <th>UserID</th>\n",
       "      <th>SurveyID</th>\n",
       "      <th>1</th>\n",
       "      <th>2</th>\n",
       "      <th>3</th>\n",
       "      <th>4</th>\n",
       "      <th>5</th>\n",
       "      <th>6</th>\n",
       "      <th>7</th>\n",
       "      <th>8</th>\n",
       "      <th>...</th>\n",
       "      <th>85</th>\n",
       "      <th>89</th>\n",
       "      <th>92</th>\n",
       "      <th>93</th>\n",
       "      <th>113</th>\n",
       "      <th>114</th>\n",
       "      <th>115</th>\n",
       "      <th>116</th>\n",
       "      <th>117</th>\n",
       "      <th>118</th>\n",
       "    </tr>\n",
       "  </thead>\n",
       "  <tbody>\n",
       "    <tr>\n",
       "      <th>0</th>\n",
       "      <td>1</td>\n",
       "      <td>2014</td>\n",
       "      <td>37</td>\n",
       "      <td>Female</td>\n",
       "      <td>United States</td>\n",
       "      <td>Illinois</td>\n",
       "      <td>-1</td>\n",
       "      <td>No</td>\n",
       "      <td>1</td>\n",
       "      <td>6-25</td>\n",
       "      <td>...</td>\n",
       "      <td>NaN</td>\n",
       "      <td>NaN</td>\n",
       "      <td>Often</td>\n",
       "      <td>No</td>\n",
       "      <td>NaN</td>\n",
       "      <td>NaN</td>\n",
       "      <td>NaN</td>\n",
       "      <td>NaN</td>\n",
       "      <td>NaN</td>\n",
       "      <td>NaN</td>\n",
       "    </tr>\n",
       "    <tr>\n",
       "      <th>1</th>\n",
       "      <td>2</td>\n",
       "      <td>2014</td>\n",
       "      <td>44</td>\n",
       "      <td>Male</td>\n",
       "      <td>United States</td>\n",
       "      <td>Indiana</td>\n",
       "      <td>-1</td>\n",
       "      <td>No</td>\n",
       "      <td>0</td>\n",
       "      <td>More than 1000</td>\n",
       "      <td>...</td>\n",
       "      <td>NaN</td>\n",
       "      <td>NaN</td>\n",
       "      <td>Rarely</td>\n",
       "      <td>No</td>\n",
       "      <td>NaN</td>\n",
       "      <td>NaN</td>\n",
       "      <td>NaN</td>\n",
       "      <td>NaN</td>\n",
       "      <td>NaN</td>\n",
       "      <td>NaN</td>\n",
       "    </tr>\n",
       "    <tr>\n",
       "      <th>2</th>\n",
       "      <td>3</td>\n",
       "      <td>2014</td>\n",
       "      <td>32</td>\n",
       "      <td>Male</td>\n",
       "      <td>Canada</td>\n",
       "      <td>-1</td>\n",
       "      <td>-1</td>\n",
       "      <td>No</td>\n",
       "      <td>0</td>\n",
       "      <td>6-25</td>\n",
       "      <td>...</td>\n",
       "      <td>NaN</td>\n",
       "      <td>NaN</td>\n",
       "      <td>Rarely</td>\n",
       "      <td>No</td>\n",
       "      <td>NaN</td>\n",
       "      <td>NaN</td>\n",
       "      <td>NaN</td>\n",
       "      <td>NaN</td>\n",
       "      <td>NaN</td>\n",
       "      <td>NaN</td>\n",
       "    </tr>\n",
       "    <tr>\n",
       "      <th>3</th>\n",
       "      <td>4</td>\n",
       "      <td>2014</td>\n",
       "      <td>31</td>\n",
       "      <td>Male</td>\n",
       "      <td>United Kingdom</td>\n",
       "      <td>-1</td>\n",
       "      <td>-1</td>\n",
       "      <td>Yes</td>\n",
       "      <td>1</td>\n",
       "      <td>26-100</td>\n",
       "      <td>...</td>\n",
       "      <td>NaN</td>\n",
       "      <td>NaN</td>\n",
       "      <td>Often</td>\n",
       "      <td>No</td>\n",
       "      <td>NaN</td>\n",
       "      <td>NaN</td>\n",
       "      <td>NaN</td>\n",
       "      <td>NaN</td>\n",
       "      <td>NaN</td>\n",
       "      <td>NaN</td>\n",
       "    </tr>\n",
       "    <tr>\n",
       "      <th>4</th>\n",
       "      <td>5</td>\n",
       "      <td>2014</td>\n",
       "      <td>31</td>\n",
       "      <td>Male</td>\n",
       "      <td>United States</td>\n",
       "      <td>Texas</td>\n",
       "      <td>-1</td>\n",
       "      <td>No</td>\n",
       "      <td>0</td>\n",
       "      <td>100-500</td>\n",
       "      <td>...</td>\n",
       "      <td>NaN</td>\n",
       "      <td>NaN</td>\n",
       "      <td>Never</td>\n",
       "      <td>Yes</td>\n",
       "      <td>NaN</td>\n",
       "      <td>NaN</td>\n",
       "      <td>NaN</td>\n",
       "      <td>NaN</td>\n",
       "      <td>NaN</td>\n",
       "      <td>NaN</td>\n",
       "    </tr>\n",
       "  </tbody>\n",
       "</table>\n",
       "<p>5 rows × 43 columns</p>\n",
       "</div>"
      ],
      "text/plain": [
       "   UserID  SurveyID   1       2               3         4   5    6  7  \\\n",
       "0       1      2014  37  Female   United States  Illinois  -1   No  1   \n",
       "1       2      2014  44    Male   United States   Indiana  -1   No  0   \n",
       "2       3      2014  32    Male          Canada        -1  -1   No  0   \n",
       "3       4      2014  31    Male  United Kingdom        -1  -1  Yes  1   \n",
       "4       5      2014  31    Male   United States     Texas  -1   No  0   \n",
       "\n",
       "                8  ...   85   89      92   93  113  114  115  116  117  118  \n",
       "0            6-25  ...  NaN  NaN   Often   No  NaN  NaN  NaN  NaN  NaN  NaN  \n",
       "1  More than 1000  ...  NaN  NaN  Rarely   No  NaN  NaN  NaN  NaN  NaN  NaN  \n",
       "2            6-25  ...  NaN  NaN  Rarely   No  NaN  NaN  NaN  NaN  NaN  NaN  \n",
       "3          26-100  ...  NaN  NaN   Often   No  NaN  NaN  NaN  NaN  NaN  NaN  \n",
       "4         100-500  ...  NaN  NaN   Never  Yes  NaN  NaN  NaN  NaN  NaN  NaN  \n",
       "\n",
       "[5 rows x 43 columns]"
      ]
     },
     "execution_count": 3,
     "metadata": {},
     "output_type": "execute_result"
    }
   ],
   "source": [
    "### Pivoting the dataset\n",
    "\n",
    "pivot_df = full_df.pivot_table(\n",
    "    index=['UserID', 'SurveyID'],\n",
    "    columns='questionid',\n",
    "    values='AnswerText',\n",
    "    aggfunc='first'\n",
    ")\n",
    "pivot_df.columns.name = None\n",
    "pivot_df.reset_index(inplace=True)\n",
    "pivot_df.head()"
   ]
  },
  {
   "cell_type": "code",
   "execution_count": 4,
   "metadata": {},
   "outputs": [],
   "source": [
    "### Clearing the age column of values <18 and non-provided ones\n",
    "\n",
    "pivot_df[1] = pivot_df[1].astype('int')\n",
    "pivot_df[1].dtypes\n",
    "pivot_df[1].loc[pivot_df[1] < 18]\n",
    "pivot_df.drop(pivot_df.loc[pivot_df[1] < 18].index, inplace=True)\n",
    "pivot_df.rename(columns={1: 'age'}, inplace=True)\n"
   ]
  },
  {
   "cell_type": "code",
   "execution_count": 5,
   "metadata": {},
   "outputs": [],
   "source": [
    "### Simplifying gender values into three categories\n",
    "\n",
    "pivot_df.loc[~pivot_df[2].isin(['Female','Male']), 2] = 'Other'\n",
    "pivot_df[2].value_counts()\n",
    "pivot_df.rename(columns={2: 'gender'}, inplace=True)"
   ]
  },
  {
   "cell_type": "code",
   "execution_count": 6,
   "metadata": {},
   "outputs": [],
   "source": [
    "### Changing column labels\n",
    "\n",
    "rename_cols = {\n",
    "    'SurveyID': 'year',\n",
    "    1: 'age',\n",
    "    2: 'gender',\n",
    "    3: 'country',\n",
    "    4: 'US_territory',\n",
    "    5: 'is_self_employed',\n",
    "    50: 'work_country',\n",
    "    51: 'work_US_state',\n",
    "    89: 'race',\n",
    "    54: 'productivity_affected',\n",
    "    55: 'percentage_prod_affected',\n",
    "    79: 'was_career_affected',\n",
    "    80: 'how_career_affected',\n",
    "    92: 'interferes_with_work',\n",
    "    93: 'remote_50_percent',\n",
    "    113: 'would_hurt_career',\n",
    "    117: 'work_position',\n",
    "    118: 'works_remotely',\n",
    "    6: 'if_family_mental_disorder',\n",
    "    7: 'sought_treatment',\n",
    "    20: 'if_has_medical_cov',\n",
    "    21: 'knows_resources',\n",
    "    30: 'willing_to_share_close',\n",
    "    31: 'less_likely_to_share_obs_of_others',\n",
    "    32: 'had_mental_d_in_past',\n",
    "    33: 'has_mental_d_currently',\n",
    "    34: 'has_been_diagnosed',\n",
    "    48: 'how_often_interferes_work_treated',\n",
    "    49: 'how_ofter_interferes_untreated',\n",
    "    78: 'openly_identified',\n",
    "    115: 'conditions_diagnosed_with',\n",
    "    116: 'conditions_believes_has',\n",
    "    8: 'org_size',\n",
    "    9: 'employer_is_tech',\n",
    "    13: 'role_primary_tech',\n",
    "    68: 'org_primary_tech', # remove\n",
    "    10: 'employer_benefits_provided',\n",
    "    14: 'knowledge_of_benefits_available',\n",
    "    18: 'comfortable_discuss_coworkers',\n",
    "    19: 'comfortable_dicuss_supervisor',\n",
    "    85: 'thinks_tech_supports_employees',\n",
    "    114: 'coworkers_would_view_negative',\n",
    "}\n",
    "pivot_df.rename(columns=rename_cols, inplace=True)\n"
   ]
  },
  {
   "cell_type": "code",
   "execution_count": 7,
   "metadata": {},
   "outputs": [
    {
     "data": {
      "text/html": [
       "<div>\n",
       "<style scoped>\n",
       "    .dataframe tbody tr th:only-of-type {\n",
       "        vertical-align: middle;\n",
       "    }\n",
       "\n",
       "    .dataframe tbody tr th {\n",
       "        vertical-align: top;\n",
       "    }\n",
       "\n",
       "    .dataframe thead th {\n",
       "        text-align: right;\n",
       "    }\n",
       "</style>\n",
       "<table border=\"1\" class=\"dataframe\">\n",
       "  <thead>\n",
       "    <tr style=\"text-align: right;\">\n",
       "      <th></th>\n",
       "      <th>UserID</th>\n",
       "      <th>year</th>\n",
       "      <th>age</th>\n",
       "      <th>gender</th>\n",
       "      <th>country</th>\n",
       "      <th>US_territory</th>\n",
       "      <th>is_self_employed</th>\n",
       "      <th>if_family_mental_disorder</th>\n",
       "      <th>sought_treatment</th>\n",
       "      <th>org_size</th>\n",
       "      <th>...</th>\n",
       "      <th>thinks_tech_supports_employees</th>\n",
       "      <th>race</th>\n",
       "      <th>interferes_with_work</th>\n",
       "      <th>remote_50_percent</th>\n",
       "      <th>would_hurt_career</th>\n",
       "      <th>coworkers_would_view_negative</th>\n",
       "      <th>conditions_diagnosed_with</th>\n",
       "      <th>conditions_believes_has</th>\n",
       "      <th>work_position</th>\n",
       "      <th>works_remotely</th>\n",
       "    </tr>\n",
       "  </thead>\n",
       "  <tbody>\n",
       "    <tr>\n",
       "      <th>0</th>\n",
       "      <td>1</td>\n",
       "      <td>2014</td>\n",
       "      <td>37</td>\n",
       "      <td>Female</td>\n",
       "      <td>United States</td>\n",
       "      <td>Illinois</td>\n",
       "      <td>-1</td>\n",
       "      <td>No</td>\n",
       "      <td>1</td>\n",
       "      <td>6-25</td>\n",
       "      <td>...</td>\n",
       "      <td>NaN</td>\n",
       "      <td>NaN</td>\n",
       "      <td>Often</td>\n",
       "      <td>No</td>\n",
       "      <td>NaN</td>\n",
       "      <td>NaN</td>\n",
       "      <td>NaN</td>\n",
       "      <td>NaN</td>\n",
       "      <td>NaN</td>\n",
       "      <td>NaN</td>\n",
       "    </tr>\n",
       "    <tr>\n",
       "      <th>1</th>\n",
       "      <td>2</td>\n",
       "      <td>2014</td>\n",
       "      <td>44</td>\n",
       "      <td>Male</td>\n",
       "      <td>United States</td>\n",
       "      <td>Indiana</td>\n",
       "      <td>-1</td>\n",
       "      <td>No</td>\n",
       "      <td>0</td>\n",
       "      <td>More than 1000</td>\n",
       "      <td>...</td>\n",
       "      <td>NaN</td>\n",
       "      <td>NaN</td>\n",
       "      <td>Rarely</td>\n",
       "      <td>No</td>\n",
       "      <td>NaN</td>\n",
       "      <td>NaN</td>\n",
       "      <td>NaN</td>\n",
       "      <td>NaN</td>\n",
       "      <td>NaN</td>\n",
       "      <td>NaN</td>\n",
       "    </tr>\n",
       "    <tr>\n",
       "      <th>2</th>\n",
       "      <td>3</td>\n",
       "      <td>2014</td>\n",
       "      <td>32</td>\n",
       "      <td>Male</td>\n",
       "      <td>Canada</td>\n",
       "      <td>-1</td>\n",
       "      <td>-1</td>\n",
       "      <td>No</td>\n",
       "      <td>0</td>\n",
       "      <td>6-25</td>\n",
       "      <td>...</td>\n",
       "      <td>NaN</td>\n",
       "      <td>NaN</td>\n",
       "      <td>Rarely</td>\n",
       "      <td>No</td>\n",
       "      <td>NaN</td>\n",
       "      <td>NaN</td>\n",
       "      <td>NaN</td>\n",
       "      <td>NaN</td>\n",
       "      <td>NaN</td>\n",
       "      <td>NaN</td>\n",
       "    </tr>\n",
       "    <tr>\n",
       "      <th>3</th>\n",
       "      <td>4</td>\n",
       "      <td>2014</td>\n",
       "      <td>31</td>\n",
       "      <td>Male</td>\n",
       "      <td>United Kingdom</td>\n",
       "      <td>-1</td>\n",
       "      <td>-1</td>\n",
       "      <td>Yes</td>\n",
       "      <td>1</td>\n",
       "      <td>26-100</td>\n",
       "      <td>...</td>\n",
       "      <td>NaN</td>\n",
       "      <td>NaN</td>\n",
       "      <td>Often</td>\n",
       "      <td>No</td>\n",
       "      <td>NaN</td>\n",
       "      <td>NaN</td>\n",
       "      <td>NaN</td>\n",
       "      <td>NaN</td>\n",
       "      <td>NaN</td>\n",
       "      <td>NaN</td>\n",
       "    </tr>\n",
       "    <tr>\n",
       "      <th>4</th>\n",
       "      <td>5</td>\n",
       "      <td>2014</td>\n",
       "      <td>31</td>\n",
       "      <td>Male</td>\n",
       "      <td>United States</td>\n",
       "      <td>Texas</td>\n",
       "      <td>-1</td>\n",
       "      <td>No</td>\n",
       "      <td>0</td>\n",
       "      <td>100-500</td>\n",
       "      <td>...</td>\n",
       "      <td>NaN</td>\n",
       "      <td>NaN</td>\n",
       "      <td>Never</td>\n",
       "      <td>Yes</td>\n",
       "      <td>NaN</td>\n",
       "      <td>NaN</td>\n",
       "      <td>NaN</td>\n",
       "      <td>NaN</td>\n",
       "      <td>NaN</td>\n",
       "      <td>NaN</td>\n",
       "    </tr>\n",
       "  </tbody>\n",
       "</table>\n",
       "<p>5 rows × 43 columns</p>\n",
       "</div>"
      ],
      "text/plain": [
       "   UserID  year  age  gender         country US_territory is_self_employed  \\\n",
       "0       1  2014   37  Female   United States     Illinois               -1   \n",
       "1       2  2014   44    Male   United States      Indiana               -1   \n",
       "2       3  2014   32    Male          Canada           -1               -1   \n",
       "3       4  2014   31    Male  United Kingdom           -1               -1   \n",
       "4       5  2014   31    Male   United States        Texas               -1   \n",
       "\n",
       "  if_family_mental_disorder sought_treatment        org_size  ...  \\\n",
       "0                        No                1            6-25  ...   \n",
       "1                        No                0  More than 1000  ...   \n",
       "2                        No                0            6-25  ...   \n",
       "3                       Yes                1          26-100  ...   \n",
       "4                        No                0         100-500  ...   \n",
       "\n",
       "  thinks_tech_supports_employees race interferes_with_work remote_50_percent  \\\n",
       "0                            NaN  NaN                Often                No   \n",
       "1                            NaN  NaN               Rarely                No   \n",
       "2                            NaN  NaN               Rarely                No   \n",
       "3                            NaN  NaN                Often                No   \n",
       "4                            NaN  NaN                Never               Yes   \n",
       "\n",
       "  would_hurt_career coworkers_would_view_negative conditions_diagnosed_with  \\\n",
       "0               NaN                           NaN                       NaN   \n",
       "1               NaN                           NaN                       NaN   \n",
       "2               NaN                           NaN                       NaN   \n",
       "3               NaN                           NaN                       NaN   \n",
       "4               NaN                           NaN                       NaN   \n",
       "\n",
       "  conditions_believes_has work_position works_remotely  \n",
       "0                     NaN           NaN            NaN  \n",
       "1                     NaN           NaN            NaN  \n",
       "2                     NaN           NaN            NaN  \n",
       "3                     NaN           NaN            NaN  \n",
       "4                     NaN           NaN            NaN  \n",
       "\n",
       "[5 rows x 43 columns]"
      ]
     },
     "execution_count": 7,
     "metadata": {},
     "output_type": "execute_result"
    }
   ],
   "source": [
    "pivot_df.head()"
   ]
  },
  {
   "cell_type": "code",
   "execution_count": 8,
   "metadata": {},
   "outputs": [
    {
     "data": {
      "text/html": [
       "<div>\n",
       "<style scoped>\n",
       "    .dataframe tbody tr th:only-of-type {\n",
       "        vertical-align: middle;\n",
       "    }\n",
       "\n",
       "    .dataframe tbody tr th {\n",
       "        vertical-align: top;\n",
       "    }\n",
       "\n",
       "    .dataframe thead th {\n",
       "        text-align: right;\n",
       "    }\n",
       "</style>\n",
       "<table border=\"1\" class=\"dataframe\">\n",
       "  <thead>\n",
       "    <tr style=\"text-align: right;\">\n",
       "      <th></th>\n",
       "      <th>2014</th>\n",
       "      <th>2016</th>\n",
       "      <th>2017</th>\n",
       "      <th>2018</th>\n",
       "      <th>2019</th>\n",
       "    </tr>\n",
       "  </thead>\n",
       "  <tbody>\n",
       "    <tr>\n",
       "      <th>UserID</th>\n",
       "      <td>1253</td>\n",
       "      <td>1430</td>\n",
       "      <td>754</td>\n",
       "      <td>417</td>\n",
       "      <td>351</td>\n",
       "    </tr>\n",
       "    <tr>\n",
       "      <th>year</th>\n",
       "      <td>1253</td>\n",
       "      <td>1430</td>\n",
       "      <td>754</td>\n",
       "      <td>417</td>\n",
       "      <td>351</td>\n",
       "    </tr>\n",
       "    <tr>\n",
       "      <th>age</th>\n",
       "      <td>1253</td>\n",
       "      <td>1430</td>\n",
       "      <td>754</td>\n",
       "      <td>417</td>\n",
       "      <td>351</td>\n",
       "    </tr>\n",
       "    <tr>\n",
       "      <th>gender</th>\n",
       "      <td>1253</td>\n",
       "      <td>1430</td>\n",
       "      <td>754</td>\n",
       "      <td>417</td>\n",
       "      <td>351</td>\n",
       "    </tr>\n",
       "    <tr>\n",
       "      <th>country</th>\n",
       "      <td>1253</td>\n",
       "      <td>1430</td>\n",
       "      <td>754</td>\n",
       "      <td>417</td>\n",
       "      <td>351</td>\n",
       "    </tr>\n",
       "    <tr>\n",
       "      <th>US_territory</th>\n",
       "      <td>1253</td>\n",
       "      <td>1430</td>\n",
       "      <td>754</td>\n",
       "      <td>417</td>\n",
       "      <td>351</td>\n",
       "    </tr>\n",
       "    <tr>\n",
       "      <th>is_self_employed</th>\n",
       "      <td>1253</td>\n",
       "      <td>1430</td>\n",
       "      <td>754</td>\n",
       "      <td>417</td>\n",
       "      <td>351</td>\n",
       "    </tr>\n",
       "    <tr>\n",
       "      <th>if_family_mental_disorder</th>\n",
       "      <td>1253</td>\n",
       "      <td>1430</td>\n",
       "      <td>754</td>\n",
       "      <td>417</td>\n",
       "      <td>351</td>\n",
       "    </tr>\n",
       "    <tr>\n",
       "      <th>sought_treatment</th>\n",
       "      <td>1253</td>\n",
       "      <td>1430</td>\n",
       "      <td>754</td>\n",
       "      <td>417</td>\n",
       "      <td>351</td>\n",
       "    </tr>\n",
       "    <tr>\n",
       "      <th>org_size</th>\n",
       "      <td>1253</td>\n",
       "      <td>1430</td>\n",
       "      <td>754</td>\n",
       "      <td>417</td>\n",
       "      <td>351</td>\n",
       "    </tr>\n",
       "    <tr>\n",
       "      <th>employer_is_tech</th>\n",
       "      <td>1253</td>\n",
       "      <td>1430</td>\n",
       "      <td>754</td>\n",
       "      <td>417</td>\n",
       "      <td>351</td>\n",
       "    </tr>\n",
       "    <tr>\n",
       "      <th>employer_benefits_provided</th>\n",
       "      <td>1253</td>\n",
       "      <td>1430</td>\n",
       "      <td>754</td>\n",
       "      <td>417</td>\n",
       "      <td>351</td>\n",
       "    </tr>\n",
       "    <tr>\n",
       "      <th>role_primary_tech</th>\n",
       "      <td>0</td>\n",
       "      <td>1430</td>\n",
       "      <td>754</td>\n",
       "      <td>417</td>\n",
       "      <td>351</td>\n",
       "    </tr>\n",
       "    <tr>\n",
       "      <th>knowledge_of_benefits_available</th>\n",
       "      <td>0</td>\n",
       "      <td>1430</td>\n",
       "      <td>754</td>\n",
       "      <td>417</td>\n",
       "      <td>351</td>\n",
       "    </tr>\n",
       "    <tr>\n",
       "      <th>comfortable_discuss_coworkers</th>\n",
       "      <td>0</td>\n",
       "      <td>1430</td>\n",
       "      <td>754</td>\n",
       "      <td>417</td>\n",
       "      <td>351</td>\n",
       "    </tr>\n",
       "    <tr>\n",
       "      <th>comfortable_dicuss_supervisor</th>\n",
       "      <td>0</td>\n",
       "      <td>1430</td>\n",
       "      <td>754</td>\n",
       "      <td>417</td>\n",
       "      <td>351</td>\n",
       "    </tr>\n",
       "    <tr>\n",
       "      <th>if_has_medical_cov</th>\n",
       "      <td>0</td>\n",
       "      <td>1430</td>\n",
       "      <td>754</td>\n",
       "      <td>417</td>\n",
       "      <td>351</td>\n",
       "    </tr>\n",
       "    <tr>\n",
       "      <th>knows_resources</th>\n",
       "      <td>0</td>\n",
       "      <td>1430</td>\n",
       "      <td>754</td>\n",
       "      <td>417</td>\n",
       "      <td>351</td>\n",
       "    </tr>\n",
       "    <tr>\n",
       "      <th>willing_to_share_close</th>\n",
       "      <td>0</td>\n",
       "      <td>1430</td>\n",
       "      <td>754</td>\n",
       "      <td>417</td>\n",
       "      <td>351</td>\n",
       "    </tr>\n",
       "    <tr>\n",
       "      <th>less_likely_to_share_obs_of_others</th>\n",
       "      <td>0</td>\n",
       "      <td>1430</td>\n",
       "      <td>754</td>\n",
       "      <td>417</td>\n",
       "      <td>351</td>\n",
       "    </tr>\n",
       "    <tr>\n",
       "      <th>had_mental_d_in_past</th>\n",
       "      <td>0</td>\n",
       "      <td>1430</td>\n",
       "      <td>754</td>\n",
       "      <td>417</td>\n",
       "      <td>351</td>\n",
       "    </tr>\n",
       "    <tr>\n",
       "      <th>has_mental_d_currently</th>\n",
       "      <td>0</td>\n",
       "      <td>1430</td>\n",
       "      <td>754</td>\n",
       "      <td>417</td>\n",
       "      <td>351</td>\n",
       "    </tr>\n",
       "    <tr>\n",
       "      <th>has_been_diagnosed</th>\n",
       "      <td>0</td>\n",
       "      <td>1430</td>\n",
       "      <td>754</td>\n",
       "      <td>417</td>\n",
       "      <td>351</td>\n",
       "    </tr>\n",
       "    <tr>\n",
       "      <th>how_often_interferes_work_treated</th>\n",
       "      <td>0</td>\n",
       "      <td>1430</td>\n",
       "      <td>754</td>\n",
       "      <td>417</td>\n",
       "      <td>351</td>\n",
       "    </tr>\n",
       "    <tr>\n",
       "      <th>how_ofter_interferes_untreated</th>\n",
       "      <td>0</td>\n",
       "      <td>1430</td>\n",
       "      <td>754</td>\n",
       "      <td>417</td>\n",
       "      <td>351</td>\n",
       "    </tr>\n",
       "    <tr>\n",
       "      <th>work_country</th>\n",
       "      <td>0</td>\n",
       "      <td>1430</td>\n",
       "      <td>754</td>\n",
       "      <td>417</td>\n",
       "      <td>351</td>\n",
       "    </tr>\n",
       "    <tr>\n",
       "      <th>work_US_state</th>\n",
       "      <td>0</td>\n",
       "      <td>1430</td>\n",
       "      <td>754</td>\n",
       "      <td>417</td>\n",
       "      <td>351</td>\n",
       "    </tr>\n",
       "    <tr>\n",
       "      <th>productivity_affected</th>\n",
       "      <td>0</td>\n",
       "      <td>1430</td>\n",
       "      <td>754</td>\n",
       "      <td>417</td>\n",
       "      <td>351</td>\n",
       "    </tr>\n",
       "    <tr>\n",
       "      <th>percentage_prod_affected</th>\n",
       "      <td>0</td>\n",
       "      <td>1430</td>\n",
       "      <td>754</td>\n",
       "      <td>417</td>\n",
       "      <td>351</td>\n",
       "    </tr>\n",
       "    <tr>\n",
       "      <th>org_primary_tech</th>\n",
       "      <td>0</td>\n",
       "      <td>0</td>\n",
       "      <td>754</td>\n",
       "      <td>417</td>\n",
       "      <td>351</td>\n",
       "    </tr>\n",
       "    <tr>\n",
       "      <th>openly_identified</th>\n",
       "      <td>0</td>\n",
       "      <td>0</td>\n",
       "      <td>754</td>\n",
       "      <td>417</td>\n",
       "      <td>351</td>\n",
       "    </tr>\n",
       "    <tr>\n",
       "      <th>was_career_affected</th>\n",
       "      <td>0</td>\n",
       "      <td>0</td>\n",
       "      <td>754</td>\n",
       "      <td>417</td>\n",
       "      <td>351</td>\n",
       "    </tr>\n",
       "    <tr>\n",
       "      <th>how_career_affected</th>\n",
       "      <td>0</td>\n",
       "      <td>0</td>\n",
       "      <td>754</td>\n",
       "      <td>417</td>\n",
       "      <td>351</td>\n",
       "    </tr>\n",
       "    <tr>\n",
       "      <th>thinks_tech_supports_employees</th>\n",
       "      <td>0</td>\n",
       "      <td>0</td>\n",
       "      <td>754</td>\n",
       "      <td>417</td>\n",
       "      <td>351</td>\n",
       "    </tr>\n",
       "    <tr>\n",
       "      <th>race</th>\n",
       "      <td>0</td>\n",
       "      <td>0</td>\n",
       "      <td>754</td>\n",
       "      <td>417</td>\n",
       "      <td>351</td>\n",
       "    </tr>\n",
       "    <tr>\n",
       "      <th>interferes_with_work</th>\n",
       "      <td>1253</td>\n",
       "      <td>0</td>\n",
       "      <td>0</td>\n",
       "      <td>0</td>\n",
       "      <td>0</td>\n",
       "    </tr>\n",
       "    <tr>\n",
       "      <th>remote_50_percent</th>\n",
       "      <td>1253</td>\n",
       "      <td>0</td>\n",
       "      <td>0</td>\n",
       "      <td>0</td>\n",
       "      <td>0</td>\n",
       "    </tr>\n",
       "    <tr>\n",
       "      <th>would_hurt_career</th>\n",
       "      <td>0</td>\n",
       "      <td>1430</td>\n",
       "      <td>0</td>\n",
       "      <td>0</td>\n",
       "      <td>0</td>\n",
       "    </tr>\n",
       "    <tr>\n",
       "      <th>coworkers_would_view_negative</th>\n",
       "      <td>0</td>\n",
       "      <td>1430</td>\n",
       "      <td>0</td>\n",
       "      <td>0</td>\n",
       "      <td>0</td>\n",
       "    </tr>\n",
       "    <tr>\n",
       "      <th>conditions_diagnosed_with</th>\n",
       "      <td>0</td>\n",
       "      <td>1430</td>\n",
       "      <td>0</td>\n",
       "      <td>0</td>\n",
       "      <td>0</td>\n",
       "    </tr>\n",
       "    <tr>\n",
       "      <th>conditions_believes_has</th>\n",
       "      <td>0</td>\n",
       "      <td>1430</td>\n",
       "      <td>0</td>\n",
       "      <td>0</td>\n",
       "      <td>0</td>\n",
       "    </tr>\n",
       "    <tr>\n",
       "      <th>work_position</th>\n",
       "      <td>0</td>\n",
       "      <td>1430</td>\n",
       "      <td>0</td>\n",
       "      <td>0</td>\n",
       "      <td>0</td>\n",
       "    </tr>\n",
       "    <tr>\n",
       "      <th>works_remotely</th>\n",
       "      <td>0</td>\n",
       "      <td>1430</td>\n",
       "      <td>0</td>\n",
       "      <td>0</td>\n",
       "      <td>0</td>\n",
       "    </tr>\n",
       "  </tbody>\n",
       "</table>\n",
       "</div>"
      ],
      "text/plain": [
       "                                    2014  2016  2017  2018  2019\n",
       "UserID                              1253  1430   754   417   351\n",
       "year                                1253  1430   754   417   351\n",
       "age                                 1253  1430   754   417   351\n",
       "gender                              1253  1430   754   417   351\n",
       "country                             1253  1430   754   417   351\n",
       "US_territory                        1253  1430   754   417   351\n",
       "is_self_employed                    1253  1430   754   417   351\n",
       "if_family_mental_disorder           1253  1430   754   417   351\n",
       "sought_treatment                    1253  1430   754   417   351\n",
       "org_size                            1253  1430   754   417   351\n",
       "employer_is_tech                    1253  1430   754   417   351\n",
       "employer_benefits_provided          1253  1430   754   417   351\n",
       "role_primary_tech                      0  1430   754   417   351\n",
       "knowledge_of_benefits_available        0  1430   754   417   351\n",
       "comfortable_discuss_coworkers          0  1430   754   417   351\n",
       "comfortable_dicuss_supervisor          0  1430   754   417   351\n",
       "if_has_medical_cov                     0  1430   754   417   351\n",
       "knows_resources                        0  1430   754   417   351\n",
       "willing_to_share_close                 0  1430   754   417   351\n",
       "less_likely_to_share_obs_of_others     0  1430   754   417   351\n",
       "had_mental_d_in_past                   0  1430   754   417   351\n",
       "has_mental_d_currently                 0  1430   754   417   351\n",
       "has_been_diagnosed                     0  1430   754   417   351\n",
       "how_often_interferes_work_treated      0  1430   754   417   351\n",
       "how_ofter_interferes_untreated         0  1430   754   417   351\n",
       "work_country                           0  1430   754   417   351\n",
       "work_US_state                          0  1430   754   417   351\n",
       "productivity_affected                  0  1430   754   417   351\n",
       "percentage_prod_affected               0  1430   754   417   351\n",
       "org_primary_tech                       0     0   754   417   351\n",
       "openly_identified                      0     0   754   417   351\n",
       "was_career_affected                    0     0   754   417   351\n",
       "how_career_affected                    0     0   754   417   351\n",
       "thinks_tech_supports_employees         0     0   754   417   351\n",
       "race                                   0     0   754   417   351\n",
       "interferes_with_work                1253     0     0     0     0\n",
       "remote_50_percent                   1253     0     0     0     0\n",
       "would_hurt_career                      0  1430     0     0     0\n",
       "coworkers_would_view_negative          0  1430     0     0     0\n",
       "conditions_diagnosed_with              0  1430     0     0     0\n",
       "conditions_believes_has                0  1430     0     0     0\n",
       "work_position                          0  1430     0     0     0\n",
       "works_remotely                         0  1430     0     0     0"
      ]
     },
     "execution_count": 8,
     "metadata": {},
     "output_type": "execute_result"
    }
   ],
   "source": [
    "# sample comparison by year\n",
    "\n",
    "sample_comparison = pd.DataFrame(\n",
    "    {\n",
    "        '2014': pivot_df.loc[pivot_df['year'] == 2014].count(axis=0),\n",
    "        '2016': pivot_df.loc[pivot_df['year'] == 2016].count(axis=0),\n",
    "        '2017': pivot_df.loc[pivot_df['year'] == 2017].count(axis=0),\n",
    "        '2018': pivot_df.loc[pivot_df['year'] == 2018].count(axis=0),\n",
    "        '2019': pivot_df.loc[pivot_df['year'] == 2019].count(axis=0)\n",
    "    }\n",
    "\n",
    ")\n",
    "sample_comparison\n",
    "\n"
   ]
  },
  {
   "cell_type": "markdown",
   "metadata": {},
   "source": [
    "### Overview\n",
    "\n",
    "We have the final dataset for further analysis, comprising:\n",
    "- 4205 observations;\n",
    "- 43 columns;\n",
    "- Three int64 datatype features (UserID, year, age);\n",
    "- All other features are object data type.\n",
    "\n",
    "We will leave this data frame as it is for now, and will return to some data wrangling if our EDA will require us to."
   ]
  },
  {
   "cell_type": "markdown",
   "metadata": {},
   "source": [
    "## 02 Sociodemographics of the dataset\n",
    "\n",
    "In the following cells, we'll provide the general overview of the data in terms of its social and demographic characteristics. Those are:\n",
    "\n",
    "- age,\n",
    "- gender,\n",
    "- race [1],\n",
    "- countries and territories,\n",
    "- work countries and territories [2],\n",
    "- employment status and workplace characteristics.\n",
    "\n",
    "\n",
    "\n",
    "[1] _Race question was only covered in 2017-2019 surveys_\n",
    "\n",
    "[2] _Work country question wasn't covered in 2014 survey_\n"
   ]
  },
  {
   "cell_type": "code",
   "execution_count": 10,
   "metadata": {},
   "outputs": [],
   "source": [
    "sns.set_palette(\"Set2\")"
   ]
  },
  {
   "cell_type": "code",
   "execution_count": 61,
   "metadata": {},
   "outputs": [
    {
     "data": {
      "image/png": "[encoded data removed]",
      "text/plain": [
       "<Figure size 640x480 with 1 Axes>"
      ]
     },
     "metadata": {},
     "output_type": "display_data"
    }
   ],
   "source": [
    "fig, ax = plt.subplots()\n",
    "sns.kdeplot(data=pivot_df, x='age', ax=ax, hue='gender')\n",
    "ax.set_xlim(17, 70)\n",
    "ax.set_xlabel('Age', labelpad=15)\n",
    "ax.set_ylabel('Density', labelpad=15);"
   ]
  },
  {
   "cell_type": "code",
   "execution_count": 62,
   "metadata": {},
   "outputs": [
    {
     "data": {
      "image/png": "[encoded data removed]",
      "text/plain": [
       "<Figure size 500.25x1000 with 5 Axes>"
      ]
     },
     "metadata": {},
     "output_type": "display_data"
    }
   ],
   "source": [
    "ordered_years = pivot_df.year.unique()\n",
    "g = sns.FacetGrid(pivot_df, row=\"year\", row_order=ordered_years,\n",
    "                  height=2, aspect=2, hue='gender')\n",
    "g.map(sns.histplot, 'age')\n",
    "g.set(xlim=(17, 70))\n",
    "g.add_legend();"
   ]
  },
  {
   "cell_type": "code",
   "execution_count": 13,
   "metadata": {},
   "outputs": [
    {
     "data": {
      "image/png": "[encoded data removed]",
      "text/plain": [
       "<Figure size 1000x400 with 1 Axes>"
      ]
     },
     "metadata": {},
     "output_type": "display_data"
    }
   ],
   "source": [
    "age_col = pivot_df['age']\n",
    "age_bins = [17, 24, 34, 44, 54, 64, 70]\n",
    "labels = ['18-24', '25-34', '35-44', '45-54', '55-64', '65+']\n",
    "\n",
    "pivot_df['age_grouped'] = pd.cut(age_col, age_bins, labels=labels, right=True)\n",
    "age_counts = pivot_df['age_grouped'].value_counts().reindex(labels)\n",
    "plt.figure(figsize=(10, 4))\n",
    "sns.barplot(y=age_counts.index, x=age_counts.values, order=labels, color=\"mediumseagreen\", width=0.4)\n",
    "plt.xlabel('Number of respondents')\n",
    "plt.ylabel('Age groups')\n",
    "plt.show();"
   ]
  },
  {
   "cell_type": "code",
   "execution_count": 63,
   "metadata": {},
   "outputs": [
    {
     "data": {
      "image/png": "[encoded data removed]",
      "text/plain": [
       "<Figure size 1000x400 with 1 Axes>"
      ]
     },
     "metadata": {},
     "output_type": "display_data"
    }
   ],
   "source": [
    "plt.figure(figsize=(10, 4))\n",
    "age_plot = sns.histplot(pivot_df['age'], kde=True)\n",
    "age_plot.set_xlim(18, 80)\n",
    "age_plot.set_title('Age distribution', pad=20)\n",
    "age_plot.set_xlabel('Age', labelpad=15)\n",
    "age_plot.set_ylabel('Count', labelpad=15);"
   ]
  },
  {
   "cell_type": "code",
   "execution_count": 15,
   "metadata": {},
   "outputs": [
    {
     "name": "stdout",
     "output_type": "stream",
     "text": [
      "Metrics of location (age): \n",
      "\n",
      "\n",
      "Mean: 34.01\n",
      "Median: 33.0\n",
      "\n",
      "\n",
      "Mode:\n",
      "age\n",
      "30    250\n",
      "Name: count, dtype: int64\n"
     ]
    }
   ],
   "source": [
    "# Counting metrics of location\n",
    "\n",
    "# Mean\n",
    "\n",
    "mean_age = pivot_df['age'].mean().round(2)\n",
    "\n",
    "# Median\n",
    "\n",
    "median_age = pivot_df['age'].quantile(0.5)\n",
    "\n",
    "# Mode\n",
    "\n",
    "mode_age = pivot_df['age'].value_counts().head(1)\n",
    "\n",
    "print('Metrics of location (age): ')\n",
    "print('\\n')\n",
    "print(f'Mean: {mean_age}')\n",
    "print(f'Median: {median_age}')\n",
    "print('\\n')\n",
    "print(f'Mode:')\n",
    "print(f'{mode_age}')\n"
   ]
  },
  {
   "cell_type": "code",
   "execution_count": 16,
   "metadata": {},
   "outputs": [
    {
     "data": {
      "image/png": "[encoded data removed]",
      "text/plain": [
       "<Figure size 400x400 with 1 Axes>"
      ]
     },
     "metadata": {},
     "output_type": "display_data"
    }
   ],
   "source": [
    "gender_counts = pivot_df['gender'].value_counts(normalize=True) * 100\n",
    "plt.figure(figsize=(4, 4))\n",
    "plt.pie(gender_counts, labels=gender_counts.index, autopct='%1.1f%%', startangle=140)\n",
    "plt.show()"
   ]
  },
  {
   "cell_type": "code",
   "execution_count": 64,
   "metadata": {},
   "outputs": [
    {
     "data": {
      "image/png": "[encoded data removed]",
      "text/plain": [
       "<Figure size 800x400 with 1 Axes>"
      ]
     },
     "metadata": {},
     "output_type": "display_data"
    }
   ],
   "source": [
    "plt.figure(figsize=(8, 4))\n",
    "sns.countplot(data=pivot_df, y='race', orient='h', order=pivot_df['race'].value_counts().index)\n",
    "plt.title('Race', pad=20)\n",
    "plt.ylabel('')\n",
    "plt.xlabel('Count', labelpad=15);\n"
   ]
  },
  {
   "cell_type": "markdown",
   "metadata": {},
   "source": [
    "### Overview\n",
    "\n",
    "The data so far shows that the sample is biased:\n",
    "- The majority of respondents represent the younger part of the population, with the greatest density at around 25-34 years old; metrics of location indicate, that the largest number of people are in their early 30s;\n",
    "- The sample is dominated by males (67%); this, however, might represent the actual situation in the tech industry, where gender gap is still observed.\n",
    "- The sample is racially homogenous and dominated by white respondents. However, we also see a great number of people who prefered not to state their race.\n",
    "- However, if we analyze the age distribution per year per gender, we see that in smaller samples we get somewhat similar distributions in later years, but the overall sample is then skewed by the disproportions in years 2014 and 2016. We might modestly hypothesize about changing proportions of women in tech, however, the data is not sufficient to confirm it.\n",
    "\n",
    "Further, we'll explore some descriptive statistics on location, companies and employment."
   ]
  },
  {
   "cell_type": "code",
   "execution_count": 18,
   "metadata": {},
   "outputs": [
    {
     "data": {
      "text/plain": [
       "country\n",
       "United States     2599\n",
       "United Kingdom     481\n",
       "Name: count, dtype: int64"
      ]
     },
     "execution_count": 18,
     "metadata": {},
     "output_type": "execute_result"
    }
   ],
   "source": [
    "# Fixing the 'United States' ambiguity\n",
    "\n",
    "countries = pivot_df.loc[pivot_df['country'].str.contains('United')]\n",
    "countries['country'].value_counts()\n",
    "\n",
    "# No US or USA entries, only United States and United States of America\n",
    "# Converting to United States\n",
    "\n",
    "pivot_df['country'] = pivot_df['country'].replace(to_replace='United States of America', value='United States')\n",
    "countries = pivot_df.loc[pivot_df['country'].str.contains('United')]\n",
    "countries['country'].value_counts()"
   ]
  },
  {
   "cell_type": "code",
   "execution_count": 19,
   "metadata": {},
   "outputs": [
    {
     "name": "stdout",
     "output_type": "stream",
     "text": [
      "The majority of countries are mentioned at least twice: \n",
      " country_counts\n",
      "1    99.548157\n",
      "0     0.451843\n",
      "Name: proportion, dtype: float64 \n",
      " \n",
      " The most popular countries are: \n",
      " country\n",
      "United States     2599\n",
      "United Kingdom     481\n",
      "Canada             197\n",
      "Germany            136\n",
      "Netherlands         98\n",
      "Name: count, dtype: int64\n"
     ]
    }
   ],
   "source": [
    "from sklearn.preprocessing import normalize\n",
    "\n",
    "country_counts = pivot_df['country'].value_counts()\n",
    "pivot_df['country_counts'] = pivot_df['country'].map(lambda x: 1 if country_counts[x] > 1 else 0)\n",
    "print('The majority of countries are mentioned at least twice:', '\\n', pivot_df['country_counts'].value_counts(normalize=True) * 100,\n",
    "      '\\n',\n",
    "      '\\n',\n",
    "      'The most popular countries are:', '\\n',\n",
    "      pivot_df['country'].value_counts().head())"
   ]
  },
  {
   "cell_type": "code",
   "execution_count": 21,
   "metadata": {},
   "outputs": [
    {
     "data": {
      "image/png": "[encoded data removed]",
      "text/plain": [
       "<Figure size 1000x800 with 4 Axes>"
      ]
     },
     "metadata": {},
     "output_type": "display_data"
    }
   ],
   "source": [
    "fig, axs = plt.subplots(2, 2, figsize=(10, 8))\n",
    "fig.suptitle('Employment and employer information')\n",
    "\n",
    "## org_size\n",
    "org_size_counts = pivot_df['org_size'].value_counts().reset_index()\n",
    "org_size_counts.columns = ['org_size', 'count']\n",
    "size_order = ['More than 1000', '500-1000', '100-500', '26-100', '6-25', '1-5', '-1']\n",
    "sns.barplot(x='count', y='org_size', data=org_size_counts, ax=axs[0, 0], width=0.4, order=size_order)\n",
    "axs[0, 0].set_title('Organization size', pad=15)\n",
    "axs[0, 0].set(ylabel=None)\n",
    "axs[0, 0].set(xlabel=None)\n",
    "\n",
    "## employer_is_tech\n",
    "\n",
    "employer_is_tech = pivot_df['employer_is_tech']\n",
    "sns.countplot(data=employer_is_tech, ax=axs[0, 1], width=0.4)\n",
    "axs[0, 1].set_title('Is the employer a tech company?', pad=15)\n",
    "axs[0, 1].set(ylabel=None)\n",
    "axs[0, 1].set(xlabel=None)\n",
    "\n",
    "## role_primary_tech (NB: only 2016-2019 surveys!)\n",
    "\n",
    "df_2014_excluded = pivot_df.loc[pivot_df['year'] != 2014]\n",
    "role_primary_tech = df_2014_excluded['role_primary_tech']\n",
    "a_order = ['1', '0', '-1']\n",
    "sns.countplot(data=role_primary_tech, ax=axs[1, 0], width=0.4, order=a_order)\n",
    "axs[1, 0].set_title('Is the role primarily tech?', pad=15)\n",
    "axs[1, 0].set(ylabel=None)\n",
    "axs[1, 0].set(xlabel=None)\n",
    "\n",
    "## self_employed\n",
    "\n",
    "self_employed = pivot_df['is_self_employed']\n",
    "a_order = ['1', '0', '-1']\n",
    "sns.countplot(data=self_employed, ax=axs[1, 1], width=0.4, order=a_order)\n",
    "axs[1, 1].set_title('Is self-employed?', pad=15)\n",
    "axs[1, 1].set(ylabel=None)\n",
    "axs[1, 1].set(xlabel=None)\n",
    "\n",
    "fig.subplots_adjust(hspace=0.5)\n"
   ]
  },
  {
   "cell_type": "code",
   "execution_count": 65,
   "metadata": {},
   "outputs": [
    {
     "data": {
      "image/png": "[encoded data removed]",
      "text/plain": [
       "<Figure size 640x480 with 1 Axes>"
      ]
     },
     "metadata": {},
     "output_type": "display_data"
    }
   ],
   "source": [
    "## What is the role of the respondent? (NB: only 2016 answers)\n",
    "\n",
    "df_2016_only = pivot_df.loc[pivot_df['year'] == 2016]\n",
    "role_of_respondent = df_2016_only['work_position']\n",
    "role_plot = sns.countplot(data=role_of_respondent, width=0.4)\n",
    "role_plot.set_title('Role / Position', pad=20)\n",
    "role_plot.set(ylabel=None)\n",
    "role_plot.set(xlabel=None);\n"
   ]
  },
  {
   "cell_type": "markdown",
   "metadata": {},
   "source": [
    "### Overview\n",
    "\n",
    "The analysis of the employers and employment status shows that the majority of data comes from the technology companies and people working in primarily tech roles. The companies they represent are either large (1000+ employee) corporates, or small-to-mid-sized enterprises. Companies of sizes 1-5 and 500-1000 are underrepresented. \n",
    "\n",
    "We should also notice that the 2016 year dataset is highly biased in terms of employee roles, with back-ender individual contributors making up the majority of the sample. This means that other roles of individual contributors and leadership are underrepresented. "
   ]
  },
  {
   "cell_type": "markdown",
   "metadata": {},
   "source": [
    "## 03 Exploratory data analysis\n",
    "\n"
   ]
  },
  {
   "cell_type": "markdown",
   "metadata": {},
   "source": [
    "Now, let's explore some of the questions related to workplace mental health culture and personal medical history to better understand how various factors shape willingness to speak up about mental health issues and how they affect productivity and relationship with close relatives, co-workers and supervisors. As most of these questions are only covered in surveys from 2016-2019, it is sound to limit the scope of the dataset and focus our analysis on this subset.\n",
    "\n",
    "Some initial questions to explore / hypotheses to test:\n",
    "\n",
    "1. People are more willing to share about their mental disease / condition with close relatives rather than co-workers and supervisor; features: `comfortable_discuss_coworkers`, `comfortable_dicuss_supervisor`, `willing_to_share_close`.\n",
    "2. The health benefits employer provides reduces the negative impact on productivity that mental disease can cause; features: `employer_benefits_provided`, `productivity_affected`, `percentage_prod_affected`.\n",
    "3. Treated diseases interfere with the regular work less on average than untreated ones; features: `how_often_interferes_work_treated`, `how_ofter_interferes_untreated`.\n",
    "4. The prevalence of mental health disease is higher with those whose family members were diagnosed with it previously; features: `if_family_mental_disorder`, `has_been_diagnosed`.\n",
    "5. Those who are more aware about the mental health are less likely to be put off by seeing negative examples of how others with mental dieases are treated; fetures: `less_likely_to_share_obs_of_others`, `knows_resources`\n",
    "\n",
    "Some of the questions are only covered in surveys from 2017-2019, so to answer the following, we'll limit our data once more:\n",
    "\n",
    "6. Medical security has a positive impact on how the career is affected having a mental disease; features: `if_has_medical_cov`, `how_career_affected`\n",
    "7. Lack of awareness about workplace benefits for mentally ill people leads to negative outlook on tech industry as a whole; features: `knowledge_of_benefits_available`, `thinks_tech_supports_employees`.\n",
    "\n",
    "Finally, for the last set of explorations, we'll limit ourselves to the most informative 2016 subset of the survey:\n",
    "\n",
    "8. Remote work affects the prevalence of mental disorder; feature: `has_mental_d_currently`, `works_remotely`\n",
    "9. The prevalence of at least three mental diseases, as per the project requirements. These will be separately covered in the last part of this project, so we'll skip them in the EDA."
   ]
  },
  {
   "cell_type": "code",
   "execution_count": 23,
   "metadata": {},
   "outputs": [],
   "source": [
    "## Subsets of data based on year for further analysis\n",
    "\n",
    "df_2016_2019 = pivot_df.loc[pivot_df['year'] != 2014]\n",
    "df_2017_2019 = df_2016_2019.loc[pivot_df['year'] != 2016]\n",
    "df_2016 = pivot_df.loc[pivot_df['year'] == 2016]"
   ]
  },
  {
   "cell_type": "markdown",
   "metadata": {},
   "source": [
    "### 1. People are more willing to share about their mental disease / condition with close relatives rather than co-workers and supervisor\n",
    "Features to use: `comfortable_discuss_co-workers`, `comfortable_dicuss_supervisor`, `willing_to_share_close`\n"
   ]
  },
  {
   "cell_type": "code",
   "execution_count": 24,
   "metadata": {},
   "outputs": [],
   "source": [
    "# create the df with only three features: \n",
    "\n",
    "df_sharing = df_2016_2019[['comfortable_discuss_coworkers', 'comfortable_dicuss_supervisor', 'willing_to_share_close']]\n",
    "\n",
    "# exclude NaN (-1)\n",
    "\n",
    "df_sharing = df_sharing[df_sharing.comfortable_discuss_coworkers != '-1']\n",
    "df_sharing = df_sharing[df_sharing.comfortable_dicuss_supervisor != '-1']\n",
    "df_sharing = df_sharing[df_sharing.willing_to_share_close != 'Not applicable to me (I do not have a mental illness)']\n",
    "\n",
    "# get dummies\n",
    "\n",
    "df_sharing = pd.get_dummies(df_sharing, dtype=int)\n",
    "df_sharing['workplace_discuss'] = df_sharing[['comfortable_discuss_coworkers_Yes', 'comfortable_dicuss_supervisor_Yes']].sum(axis=1)\n",
    "df_sharing['workplace_discuss'] = df_sharing['workplace_discuss'].replace(to_replace=2, value=1)\n",
    "df_sharing['acquaintance_discuss'] = df_sharing[['willing_to_share_close_Very open', 'willing_to_share_close_Somewhat open']].sum(axis=1)\n",
    "df_sharing = df_sharing[['workplace_discuss', 'acquaintance_discuss']]\n"
   ]
  },
  {
   "cell_type": "code",
   "execution_count": 25,
   "metadata": {},
   "outputs": [
    {
     "name": "stdout",
     "output_type": "stream",
     "text": [
      "Workplace: 0.46010975094976786\n",
      "Relatives: 0.6656817222456732\n"
     ]
    }
   ],
   "source": [
    "mean1 = df_sharing['workplace_discuss'].mean()\n",
    "mean2 = df_sharing['acquaintance_discuss'].mean()\n",
    "print(f'Workplace: {mean1}')\n",
    "print(f'Relatives: {mean2}')"
   ]
  },
  {
   "cell_type": "code",
   "execution_count": 26,
   "metadata": {},
   "outputs": [
    {
     "data": {
      "image/png": "[encoded data removed]",
      "text/plain": [
       "<Figure size 1000x400 with 1 Axes>"
      ]
     },
     "metadata": {},
     "output_type": "display_data"
    }
   ],
   "source": [
    "plt.figure(figsize=(10, 4))\n",
    "sns.pointplot(\n",
    "    data=df_sharing,\n",
    "    errorbar=(\"ci\", 95), capsize=.1,\n",
    "    color=\"mediumseagreen\", linestyle=\"none\", orient='h'\n",
    ")\n",
    "plt.xlabel('Mean')\n",
    "plt.xlim(0, 1)\n",
    "plt.show()"
   ]
  },
  {
   "cell_type": "code",
   "execution_count": 27,
   "metadata": {},
   "outputs": [
    {
     "name": "stdout",
     "output_type": "stream",
     "text": [
      "Willingness to discuss mental health in workplace: \n",
      "Mean: 0.46\n",
      "Conf. interval low: 0.44\n",
      "Conf. interval high: 0.4802\n",
      "\n",
      "\n",
      "Willingness to discuss mental health with acquaintances: \n",
      "Mean: 0.666\n",
      "Conf. interval low: 0.647\n",
      "Conf. interval high: 0.685\n"
     ]
    }
   ],
   "source": [
    "import statsmodels.stats.api as sms\n",
    "\n",
    "workplace_ci = sms.DescrStatsW(df_sharing['workplace_discuss']).tconfint_mean()\n",
    "acquaintance_ci = sms.DescrStatsW(df_sharing['acquaintance_discuss']).tconfint_mean()\n",
    "\n",
    "print(\"Willingness to discuss mental health in workplace: \")\n",
    "print(f'Mean: {mean1.round(3)}')\n",
    "print(f'Conf. interval low: {workplace_ci[0].round(4)}')\n",
    "print(f'Conf. interval high: {workplace_ci[1].round(4)}')\n",
    "print('\\n')\n",
    "print(\"Willingness to discuss mental health with acquaintances: \")\n",
    "print(f'Mean: {mean2.round(3)}')\n",
    "print(f'Conf. interval low: {acquaintance_ci[0].round(3)}')\n",
    "print(f'Conf. interval high: {acquaintance_ci[1].round(3)}')"
   ]
  },
  {
   "cell_type": "markdown",
   "metadata": {},
   "source": [
    "The graph shows that we might conclude that sharing concerns about mental health is more common with acquaintances and close relatives rather than colleagues or supervisors. It seems that people are less likely to share their personal details in professional settings, meaning that if we were to develop AI-driven feature in productivity app it might not be a good idea."
   ]
  },
  {
   "cell_type": "markdown",
   "metadata": {},
   "source": [
    "### 2. The health benefits employer provides reduces the negative impact on productivity that mental disease can cause\n",
    "\n",
    "Features to use: `employer_benefits_provided`, `productivity_affected`, `percentage_prod_affected`."
   ]
  },
  {
   "cell_type": "code",
   "execution_count": 70,
   "metadata": {},
   "outputs": [
    {
     "data": {
      "text/html": [
       "<div>\n",
       "<style scoped>\n",
       "    .dataframe tbody tr th:only-of-type {\n",
       "        vertical-align: middle;\n",
       "    }\n",
       "\n",
       "    .dataframe tbody tr th {\n",
       "        vertical-align: top;\n",
       "    }\n",
       "\n",
       "    .dataframe thead th {\n",
       "        text-align: right;\n",
       "    }\n",
       "</style>\n",
       "<table border=\"1\" class=\"dataframe\">\n",
       "  <thead>\n",
       "    <tr style=\"text-align: right;\">\n",
       "      <th></th>\n",
       "      <th>employer_benefits_provided</th>\n",
       "      <th>productivity_affected</th>\n",
       "      <th>percentage_prod_affected</th>\n",
       "    </tr>\n",
       "  </thead>\n",
       "  <tbody>\n",
       "  </tbody>\n",
       "</table>\n",
       "</div>"
      ],
      "text/plain": [
       "Empty DataFrame\n",
       "Columns: [employer_benefits_provided, productivity_affected, percentage_prod_affected]\n",
       "Index: []"
      ]
     },
     "execution_count": 70,
     "metadata": {},
     "output_type": "execute_result"
    }
   ],
   "source": [
    "# create the df with only three features: \n",
    "\n",
    "df_benefits = df_2016_2019[['employer_benefits_provided', 'productivity_affected', 'percentage_prod_affected']]\n",
    "# exclude NaN (-1)\n",
    "df_benefits = df_benefits[(df_benefits.employer_benefits_provided != '-1') & (df_benefits.employer_benefits_provided != 'Not eligible for coverage / NA')]\n",
    "df_benefits.loc[df_benefits['percentage_prod_affected'] != '-1']\n"
   ]
  },
  {
   "cell_type": "markdown",
   "metadata": {},
   "source": [
    "It's interesting that if we remove people who chose not to answer the question about the benefits or said that they're not eligible for them, we also get no answers on productivity. Let's try to include them."
   ]
  },
  {
   "cell_type": "code",
   "execution_count": 71,
   "metadata": {},
   "outputs": [
    {
     "data": {
      "text/plain": [
       "employer_benefits_provided\n",
       "-1    366\n",
       "Name: count, dtype: int64"
      ]
     },
     "execution_count": 71,
     "metadata": {},
     "output_type": "execute_result"
    }
   ],
   "source": [
    "df_benefits = df_2016_2019[['employer_benefits_provided', 'productivity_affected', 'percentage_prod_affected']]\n",
    "df_benefits = df_benefits.loc[df_benefits['percentage_prod_affected'] != '-1']\n",
    "df_benefits['employer_benefits_provided'].value_counts()"
   ]
  },
  {
   "cell_type": "markdown",
   "metadata": {},
   "source": [
    "All of the the respondents, who had their productivity affected by mental disease, didn't disclose about the workplace benefits they received. It means we're at the dead-end here and must conclude that there's no sufficient data for exploration. Not to disappoint the reader, we at least leave the bar plot, reflecting the distribution of how productivity is affected. We'll convert categories to numerical 1-4 to simulate continuity of data. It's not very insightful yet, but it shows that the impact is not severe – for majority, it impacts up to a quarter of their capacity, and most values fall within 50%. We must also account that the data comes from survey were evaluations are arbitrary."
   ]
  },
  {
   "cell_type": "code",
   "execution_count": 73,
   "metadata": {},
   "outputs": [
    {
     "data": {
      "image/png": "[encoded data removed]",
      "text/plain": [
       "<Figure size 800x400 with 1 Axes>"
      ]
     },
     "metadata": {},
     "output_type": "display_data"
    }
   ],
   "source": [
    "order = ['1-25%', '26-50%', '51-75%', '76-100%']\n",
    "plt.figure(figsize=(8, 4))\n",
    "prod_plt = sns.countplot(data = df_benefits, y='percentage_prod_affected', orient='h', order=order, width=0.4)\n",
    "prod_plt.set_ylabel('')\n",
    "prod_plt.set_xlabel('Count', labelpad=15)\n",
    "prod_plt.set_title('Percentage of productivity impacted by mental disease', pad=15);"
   ]
  },
  {
   "cell_type": "markdown",
   "metadata": {},
   "source": [
    "### 3. Treated diseases interfere with the regular work less on average than untreated ones \n",
    "\n",
    "Features to use: `how_often_interferes_work_treated`, `how_ofter_interferes_untreated`."
   ]
  },
  {
   "cell_type": "code",
   "execution_count": 31,
   "metadata": {},
   "outputs": [
    {
     "name": "stderr",
     "output_type": "stream",
     "text": [
      "/var/folders/7j/0j88jv2s5njcjv6hwgj4j51w0000gn/T/ipykernel_13534/2485587150.py:14: FutureWarning: Downcasting behavior in `replace` is deprecated and will be removed in a future version. To retain the old behavior, explicitly call `result.infer_objects(copy=False)`. To opt-in to the future behavior, set `pd.set_option('future.no_silent_downcasting', True)`\n",
      "  df_interference = df_interference.replace(old_values, new_values)\n"
     ]
    },
    {
     "data": {
      "text/html": [
       "<div>\n",
       "<style scoped>\n",
       "    .dataframe tbody tr th:only-of-type {\n",
       "        vertical-align: middle;\n",
       "    }\n",
       "\n",
       "    .dataframe tbody tr th {\n",
       "        vertical-align: top;\n",
       "    }\n",
       "\n",
       "    .dataframe thead th {\n",
       "        text-align: right;\n",
       "    }\n",
       "</style>\n",
       "<table border=\"1\" class=\"dataframe\">\n",
       "  <thead>\n",
       "    <tr style=\"text-align: right;\">\n",
       "      <th></th>\n",
       "      <th>how_often_interferes_work_treated</th>\n",
       "      <th>how_ofter_interferes_untreated</th>\n",
       "    </tr>\n",
       "  </thead>\n",
       "  <tbody>\n",
       "    <tr>\n",
       "      <th>1261</th>\n",
       "      <td>1</td>\n",
       "      <td>2</td>\n",
       "    </tr>\n",
       "    <tr>\n",
       "      <th>1263</th>\n",
       "      <td>2</td>\n",
       "      <td>2</td>\n",
       "    </tr>\n",
       "    <tr>\n",
       "      <th>1264</th>\n",
       "      <td>2</td>\n",
       "      <td>2</td>\n",
       "    </tr>\n",
       "    <tr>\n",
       "      <th>1267</th>\n",
       "      <td>2</td>\n",
       "      <td>3</td>\n",
       "    </tr>\n",
       "    <tr>\n",
       "      <th>1268</th>\n",
       "      <td>1</td>\n",
       "      <td>3</td>\n",
       "    </tr>\n",
       "  </tbody>\n",
       "</table>\n",
       "</div>"
      ],
      "text/plain": [
       "      how_often_interferes_work_treated  how_ofter_interferes_untreated\n",
       "1261                                  1                               2\n",
       "1263                                  2                               2\n",
       "1264                                  2                               2\n",
       "1267                                  2                               3\n",
       "1268                                  1                               3"
      ]
     },
     "execution_count": 31,
     "metadata": {},
     "output_type": "execute_result"
    }
   ],
   "source": [
    "# create the df with only two features: \n",
    "\n",
    "df_interference = df_2016_2019[['how_often_interferes_work_treated', 'how_ofter_interferes_untreated']]\n",
    "\n",
    "# remove not-applicables\n",
    "\n",
    "df_interference = df_interference.loc[df_interference['how_often_interferes_work_treated'] != 'Not applicable to me']\n",
    "df_interference = df_interference.loc[df_interference['how_ofter_interferes_untreated'] != 'Not applicable to me']\n",
    "\n",
    "# convert categories to int values\n",
    "\n",
    "old_values = ['Never', 'Rarely', 'Sometimes', 'Often']\n",
    "new_values = [0, 1, 2, 3]\n",
    "df_interference = df_interference.replace(old_values, new_values)\n",
    "df_interference.head()\n"
   ]
  },
  {
   "cell_type": "markdown",
   "metadata": {},
   "source": [
    "In the following cells, we calculate the distribution of how severely mental disease affects the routines of the people. Based on this information, we calculate the means, based on whether the disease is treated or not."
   ]
  },
  {
   "cell_type": "code",
   "execution_count": 32,
   "metadata": {},
   "outputs": [
    {
     "data": {
      "text/plain": [
       "how_often_interferes_work_treated\n",
       "2    0.439310\n",
       "1    0.379733\n",
       "3    0.091314\n",
       "0    0.089644\n",
       "Name: proportion, dtype: float64"
      ]
     },
     "execution_count": 32,
     "metadata": {},
     "output_type": "execute_result"
    }
   ],
   "source": [
    "# Distribution of interference if disease is treated\n",
    "df_interference['how_often_interferes_work_treated'].value_counts(normalize=True)"
   ]
  },
  {
   "cell_type": "code",
   "execution_count": 33,
   "metadata": {},
   "outputs": [
    {
     "data": {
      "text/plain": [
       "how_ofter_interferes_untreated\n",
       "3    0.616370\n",
       "2    0.315145\n",
       "1    0.056793\n",
       "0    0.011693\n",
       "Name: proportion, dtype: float64"
      ]
     },
     "execution_count": 33,
     "metadata": {},
     "output_type": "execute_result"
    }
   ],
   "source": [
    "# Distribution of interference if disease is untreated\n",
    "df_interference['how_ofter_interferes_untreated'].value_counts(normalize=True)"
   ]
  },
  {
   "cell_type": "code",
   "execution_count": 34,
   "metadata": {},
   "outputs": [],
   "source": [
    "# Calculating means\n",
    "mean1 = df_interference['how_often_interferes_work_treated'].mean()\n",
    "mean2 = df_interference['how_ofter_interferes_untreated'].mean()"
   ]
  },
  {
   "cell_type": "code",
   "execution_count": 35,
   "metadata": {},
   "outputs": [
    {
     "data": {
      "image/png": "[encoded data removed]",
      "text/plain": [
       "<Figure size 1000x400 with 1 Axes>"
      ]
     },
     "metadata": {},
     "output_type": "display_data"
    }
   ],
   "source": [
    "# converting to long format \n",
    "df_melted = pd.melt(df_interference, value_vars=['how_ofter_interferes_untreated', 'how_often_interferes_work_treated'], var_name='treatment', value_name='mean')\n",
    "\n",
    "plt.figure(figsize=(10, 4))\n",
    "sns.pointplot(\n",
    "    data=df_melted, x='mean', y='treatment',\n",
    "    errorbar=(\"ci\", 95), capsize=.1,\n",
    "    color=\"mediumseagreen\", linestyle=\"none\", orient='h'\n",
    ")\n",
    "plt.xlabel('Intensity', labelpad=15)\n",
    "plt.xlim(0, 3)\n",
    "plt.ylabel('')\n",
    "plt.title('Mean values of interference to work, treated vs. untreated', pad=15)\n",
    "plt.show()\n"
   ]
  },
  {
   "cell_type": "code",
   "execution_count": 36,
   "metadata": {},
   "outputs": [
    {
     "name": "stdout",
     "output_type": "stream",
     "text": [
      "Interference in work, when mental health disease is treated: \n",
      "Mean: 1.532\n",
      "Conf. interval low: 1.4961\n",
      "Conf. interval high: 1.5685\n",
      "\n",
      "\n",
      "Interference in work, when mental health disease is untreated: \n",
      "Mean: 2.536\n",
      "Conf. interval low: 2.506\n",
      "Conf. interval high: 2.567\n"
     ]
    }
   ],
   "source": [
    "import statsmodels.stats.api as sms\n",
    "\n",
    "treated_mean = df_interference['how_often_interferes_work_treated'].mean()\n",
    "untreated_mean = df_interference['how_ofter_interferes_untreated'].mean()\n",
    "\n",
    "treated_ci = sms.DescrStatsW(df_interference['how_often_interferes_work_treated']).tconfint_mean()\n",
    "untreated_ci = sms.DescrStatsW(df_interference['how_ofter_interferes_untreated']).tconfint_mean()\n",
    "\n",
    "print(\"Interference in work, when mental health disease is treated: \")\n",
    "print(f'Mean: {treated_mean.round(3)}')\n",
    "print(f'Conf. interval low: {treated_ci[0].round(4)}')\n",
    "print(f'Conf. interval high: {treated_ci[1].round(4)}')\n",
    "print('\\n')\n",
    "print(\"Interference in work, when mental health disease is untreated: \")\n",
    "print(f'Mean: {untreated_mean.round(3)}')\n",
    "print(f'Conf. interval low: {untreated_ci[0].round(3)}')\n",
    "print(f'Conf. interval high: {untreated_ci[1].round(3)}')"
   ]
  },
  {
   "cell_type": "markdown",
   "metadata": {},
   "source": [
    "This observation can be concluded with insight that untreated mental diseases tend to interfere with working routines more than untreated ones. "
   ]
  },
  {
   "cell_type": "markdown",
   "metadata": {},
   "source": [
    "### 4. The prevalence of mental health disease is higher with those whose family members were diagnosed with it previously\n",
    "Features to use: `if_family_mental_disorder`, `has_been_diagnosed`."
   ]
  },
  {
   "cell_type": "code",
   "execution_count": 37,
   "metadata": {},
   "outputs": [
    {
     "name": "stdout",
     "output_type": "stream",
     "text": [
      "Mental disease diagnosed in family: \n",
      "Mean: 0.659\n",
      "Conf. interval low: 0.6366\n",
      "Conf. interval high: 0.6823\n",
      "\n",
      "\n",
      "Mental disease diagnosed for oneself: \n",
      "Mean: 0.654\n",
      "Conf. interval low: 0.631\n",
      "Conf. interval high: 0.677\n",
      "\n",
      "\n",
      "Correlation between the two features: \n",
      "0.45\n"
     ]
    }
   ],
   "source": [
    "# limit the dataframe to two cols\n",
    "\n",
    "df_family = df_2016_2019[['if_family_mental_disorder', 'has_been_diagnosed']]\n",
    "\n",
    "# remove -1 from has_been_diagnosed (NA / prefer not to say)\n",
    "\n",
    "df_family = df_family.loc[df_family['has_been_diagnosed'] != '-1']\n",
    "\n",
    "# remove 'I don't know' from if_family_mental_disorder\n",
    "\n",
    "df_family = df_family.loc[df_family['if_family_mental_disorder'] != \"I don't know\"]\n",
    "\n",
    "# get dummies\n",
    "\n",
    "family_dummies = pd.get_dummies(df_family, dtype=int)\n",
    "family_dummies[['family', 'self']] = family_dummies[['if_family_mental_disorder_Yes','has_been_diagnosed_Yes']]\n",
    "family_dummies = family_dummies[['family', 'self']]\n",
    "\n",
    "# run correlation\n",
    "\n",
    "family_mean = family_dummies['family'].mean()\n",
    "self_mean = family_dummies['self'].mean()\n",
    "\n",
    "family_ci = sms.DescrStatsW(family_dummies['family']).tconfint_mean()\n",
    "self_ci = sms.DescrStatsW(family_dummies['self']).tconfint_mean()\n",
    "\n",
    "print(\"Mental disease diagnosed in family: \")\n",
    "print(f'Mean: {family_mean.round(3)}')\n",
    "print(f'Conf. interval low: {family_ci[0].round(4)}')\n",
    "print(f'Conf. interval high: {family_ci[1].round(4)}')\n",
    "print('\\n')\n",
    "print(\"Mental disease diagnosed for oneself: \")\n",
    "print(f'Mean: {self_mean.round(3)}')\n",
    "print(f'Conf. interval low: {self_ci[0].round(3)}')\n",
    "print(f'Conf. interval high: {self_ci[1].round(3)}')\n",
    "print('\\n')\n",
    "print(f'Correlation between the two features: ')\n",
    "print(f'{(family_dummies[\"family\"].corr(family_dummies[\"self\"], method=\"spearman\")).round(2)}')"
   ]
  },
  {
   "cell_type": "markdown",
   "metadata": {},
   "source": [
    "These results show somewhat a moderate correlation between mental disease diagnosis in family and previous diagnosis of oneself. "
   ]
  },
  {
   "cell_type": "markdown",
   "metadata": {},
   "source": [
    "### 5. Those who are more aware about the mental health are less likely to be put off by seeing negative examples of how others with mental dieases are treated\n",
    "Features to use: `less_likely_to_share_obs_of_others`, `knows_resources`\n",
    "\n",
    "As the features are not as informative here, here's the full question texts:\n",
    "\n",
    "_Have your observations of how another individual who discussed a mental health disorder made you less likely to reveal a mental health issue yourself in your current workplace?_\n",
    "\n",
    "_Do you know local or online resources to seek help for a mental health issue?_\n",
    "\n",
    "We make the assumption that knowledge on local or online resources indicate the awareness about the mental health as it shows one's willingness to dig into the problem and look for answers, oftne leading to rejection of misconceptions and stereotypes. "
   ]
  },
  {
   "cell_type": "code",
   "execution_count": 38,
   "metadata": {},
   "outputs": [
    {
     "name": "stdout",
     "output_type": "stream",
     "text": [
      "Resource knowledge: \n",
      "Mean: 0.769\n",
      "Conf. interval low: 0.7117\n",
      "Conf. interval high: 0.8261\n",
      "\n",
      "\n",
      "Not put off by examples of colleagues: \n",
      "Mean: 0.505\n",
      "Conf. interval low: 0.437\n",
      "Conf. interval high: 0.573\n",
      "\n",
      "\n",
      "Correlation between the two features: \n",
      "-0.01\n"
     ]
    }
   ],
   "source": [
    "# limit the dataframe to two cols\n",
    "\n",
    "df_awareness = df_2016_2019[['less_likely_to_share_obs_of_others', 'knows_resources']]\n",
    "\n",
    "# remove -1 from knows_resources (NA / prefer not to say)\n",
    "\n",
    "df_awareness = df_awareness.loc[df_awareness['knows_resources'] != '-1']\n",
    "\n",
    "# remove 'I don't know' from less_likely_to_share_obs_of_others, also the 'Maybe' value\n",
    "\n",
    "df_awareness = df_awareness.loc[df_awareness['less_likely_to_share_obs_of_others'] != '-1']\n",
    "df_awareness = df_awareness.loc[df_awareness['less_likely_to_share_obs_of_others'] != 'Maybe']\n",
    "\n",
    "# get dummies\n",
    "\n",
    "awareness_dummies = pd.get_dummies(df_awareness, dtype=int)\n",
    "awareness_dummies['resource_knowledge'] = awareness_dummies[['knows_resources_I know some', 'knows_resources_Yes, I know several']].sum(axis=1)\n",
    "awareness_dummies['sharing'] = awareness_dummies['less_likely_to_share_obs_of_others_No']\n",
    "awareness_dummies = awareness_dummies[['resource_knowledge', 'sharing']]\n",
    "\n",
    "# run correlation\n",
    "\n",
    "resource_mean = awareness_dummies['resource_knowledge'].mean()\n",
    "sharing_mean = awareness_dummies['sharing'].mean()\n",
    "\n",
    "resource_ci = sms.DescrStatsW(awareness_dummies['resource_knowledge']).tconfint_mean()\n",
    "sharing_ci = sms.DescrStatsW(awareness_dummies['sharing']).tconfint_mean()\n",
    "\n",
    "print(\"Resource knowledge: \")\n",
    "print(f'Mean: {resource_mean.round(3)}')\n",
    "print(f'Conf. interval low: {resource_ci[0].round(4)}')\n",
    "print(f'Conf. interval high: {resource_ci[1].round(4)}')\n",
    "print('\\n')\n",
    "print(\"Not put off by examples of colleagues: \")\n",
    "print(f'Mean: {sharing_mean.round(3)}')\n",
    "print(f'Conf. interval low: {sharing_ci[0].round(3)}')\n",
    "print(f'Conf. interval high: {sharing_ci[1].round(3)}')\n",
    "print('\\n')\n",
    "print(f'Correlation between the two features: ')\n",
    "print(f'{(awareness_dummies[\"resource_knowledge\"].corr(awareness_dummies[\"sharing\"], method=\"spearman\")).round(2)}')"
   ]
  },
  {
   "cell_type": "markdown",
   "metadata": {},
   "source": [
    "From these results we see that that only minimal negative correlation exists and it doesn't allow us to make any finite conclusions that knowledge of resources (and implied awareness) somehow influences the willingness to ignore previous negative experiences of colleagues speaking up about their mental health issues. It is possible that these factors are more related to either personality traits (e.g., fighting for the right cause, persistence, courage) or workplace culture (e.g., employee empowerment, awareness raising, encouragement, support, etc.)"
   ]
  },
  {
   "cell_type": "markdown",
   "metadata": {},
   "source": [
    "### 6. Medical security has a positive impact on how the career is affected having a mental disease\n",
    "Features to use: `if_has_medical_cov`, `how_career_affected`"
   ]
  },
  {
   "cell_type": "code",
   "execution_count": 39,
   "metadata": {},
   "outputs": [],
   "source": [
    "df_career = df_2017_2019[['if_has_medical_cov', 'how_career_affected']]\n",
    "\n",
    "df_career = df_career.loc[df_career['if_has_medical_cov'] != '-1']\n",
    "df_career = df_career.loc[df_career['how_career_affected'] != '-1']"
   ]
  },
  {
   "cell_type": "markdown",
   "metadata": {},
   "source": [
    "Both questions have very large Null value rate, meaning that the eventual sample of effects on career and possesionf of medical coverage is too small to draw any meaningful conclusions. Given this, we might look for alternative approaches to explore. "
   ]
  },
  {
   "cell_type": "code",
   "execution_count": 40,
   "metadata": {},
   "outputs": [],
   "source": [
    "df_career = df_2017_2019[['if_has_medical_cov', 'percentage_prod_affected']]\n",
    "df_career = df_career[(df_career.if_has_medical_cov != '-1') & (df_career.percentage_prod_affected != '-1')]"
   ]
  },
  {
   "cell_type": "code",
   "execution_count": 41,
   "metadata": {},
   "outputs": [
    {
     "data": {
      "text/plain": [
       "Text(0.5, 1.0, 'Percentage of productivity impacted by mental disease')"
      ]
     },
     "execution_count": 41,
     "metadata": {},
     "output_type": "execute_result"
    },
    {
     "data": {
      "image/png": "[encoded data removed]",
      "text/plain": [
       "<Figure size 800x400 with 1 Axes>"
      ]
     },
     "metadata": {},
     "output_type": "display_data"
    }
   ],
   "source": [
    "order = ['1-25%', '26-50%', '51-75%', '76-100%']\n",
    "plt.figure(figsize=(8, 4))\n",
    "prod_plt = sns.countplot(data = df_career, y='percentage_prod_affected', orient='h', order=order, width=0.4, hue='if_has_medical_cov')\n",
    "prod_plt.set_ylabel('')\n",
    "prod_plt.set_xlabel('Count', labelpad=15)\n",
    "prod_plt.set_title('Percentage of productivity impacted by mental disease', pad=15)"
   ]
  },
  {
   "cell_type": "code",
   "execution_count": 42,
   "metadata": {},
   "outputs": [
    {
     "name": "stdout",
     "output_type": "stream",
     "text": [
      "The correlation between productivity affected and possesion of medical coverage: \n",
      "0.017365329023966144\n"
     ]
    },
    {
     "name": "stderr",
     "output_type": "stream",
     "text": [
      "/var/folders/7j/0j88jv2s5njcjv6hwgj4j51w0000gn/T/ipykernel_13534/2381523724.py:5: FutureWarning: Downcasting behavior in `replace` is deprecated and will be removed in a future version. To retain the old behavior, explicitly call `result.infer_objects(copy=False)`. To opt-in to the future behavior, set `pd.set_option('future.no_silent_downcasting', True)`\n",
      "  df_productivity = df_career.replace(old_values, new_values)\n"
     ]
    }
   ],
   "source": [
    "# convert productivity categories to int values\n",
    "\n",
    "old_values = ['1-25%', '26-50%', '51-75%', '76-100%']\n",
    "new_values = [1, 2, 3, 4]\n",
    "df_productivity = df_career.replace(old_values, new_values)\n",
    "\n",
    "# see the correlation of medical coverage and productivity\n",
    "\n",
    "print(f'The correlation between productivity affected and possesion of medical coverage: ')\n",
    "print(f\"{df_productivity['if_has_medical_cov'].corr(df_productivity['percentage_prod_affected'], method='spearman')}\")\n"
   ]
  },
  {
   "cell_type": "markdown",
   "metadata": {},
   "source": [
    "Given these results, we can indicate that the effect on owning the medical coverage is weak on how the productivity is affected. It is also evident in the bar chart, where productivity is affected somewhat the same, only that more people have medical coverage than not."
   ]
  },
  {
   "cell_type": "markdown",
   "metadata": {},
   "source": [
    "### 7. Lack of awareness about workplace benefits for mentally ill people leads to negative outlook on tech industry as a whole\n",
    "Features to use: `knowledge_of_benefits_available`, `thinks_tech_supports_employees`."
   ]
  },
  {
   "cell_type": "code",
   "execution_count": 43,
   "metadata": {},
   "outputs": [
    {
     "name": "stderr",
     "output_type": "stream",
     "text": [
      "/var/folders/7j/0j88jv2s5njcjv6hwgj4j51w0000gn/T/ipykernel_13534/875656356.py:4: FutureWarning: Downcasting behavior in `replace` is deprecated and will be removed in a future version. To retain the old behavior, explicitly call `result.infer_objects(copy=False)`. To opt-in to the future behavior, set `pd.set_option('future.no_silent_downcasting', True)`\n",
      "  df_tech_support = df_tech_support.replace(to_replace=['Yes', 'No'], value=[1, 0])\n"
     ]
    }
   ],
   "source": [
    "df_tech_support = df_2017_2019[['knowledge_of_benefits_available', 'thinks_tech_supports_employees']]\n",
    "df_tech_support = df_tech_support.astype({\"thinks_tech_supports_employees\": int, \"knowledge_of_benefits_available\": object})\n",
    "df_tech_support = df_tech_support[df_tech_support.knowledge_of_benefits_available != '-1'] \n",
    "df_tech_support = df_tech_support.replace(to_replace=['Yes', 'No'], value=[1, 0])\n"
   ]
  },
  {
   "cell_type": "code",
   "execution_count": 44,
   "metadata": {},
   "outputs": [
    {
     "data": {
      "text/plain": [
       "knowledge_of_benefits_available\n",
       "0    615\n",
       "1    562\n",
       "Name: count, dtype: int64"
      ]
     },
     "execution_count": 44,
     "metadata": {},
     "output_type": "execute_result"
    }
   ],
   "source": [
    "df_tech_support['knowledge_of_benefits_available'].value_counts()"
   ]
  },
  {
   "cell_type": "code",
   "execution_count": 45,
   "metadata": {},
   "outputs": [
    {
     "data": {
      "text/plain": [
       "thinks_tech_supports_employees\n",
       "3    477\n",
       "2    371\n",
       "4    163\n",
       "1    152\n",
       "5     14\n",
       "Name: count, dtype: int64"
      ]
     },
     "execution_count": 45,
     "metadata": {},
     "output_type": "execute_result"
    }
   ],
   "source": [
    "df_tech_support['thinks_tech_supports_employees'].value_counts()"
   ]
  },
  {
   "cell_type": "code",
   "execution_count": 46,
   "metadata": {},
   "outputs": [
    {
     "data": {
      "text/html": [
       "<div>\n",
       "<style scoped>\n",
       "    .dataframe tbody tr th:only-of-type {\n",
       "        vertical-align: middle;\n",
       "    }\n",
       "\n",
       "    .dataframe tbody tr th {\n",
       "        vertical-align: top;\n",
       "    }\n",
       "\n",
       "    .dataframe thead th {\n",
       "        text-align: right;\n",
       "    }\n",
       "</style>\n",
       "<table border=\"1\" class=\"dataframe\">\n",
       "  <thead>\n",
       "    <tr style=\"text-align: right;\">\n",
       "      <th></th>\n",
       "      <th>knowledge_of_benefits_available</th>\n",
       "      <th>thinks_tech_supports_employees</th>\n",
       "    </tr>\n",
       "  </thead>\n",
       "  <tbody>\n",
       "    <tr>\n",
       "      <th>knowledge_of_benefits_available</th>\n",
       "      <td>1.000000</td>\n",
       "      <td>0.057582</td>\n",
       "    </tr>\n",
       "    <tr>\n",
       "      <th>thinks_tech_supports_employees</th>\n",
       "      <td>0.057582</td>\n",
       "      <td>1.000000</td>\n",
       "    </tr>\n",
       "  </tbody>\n",
       "</table>\n",
       "</div>"
      ],
      "text/plain": [
       "                                 knowledge_of_benefits_available  \\\n",
       "knowledge_of_benefits_available                         1.000000   \n",
       "thinks_tech_supports_employees                          0.057582   \n",
       "\n",
       "                                 thinks_tech_supports_employees  \n",
       "knowledge_of_benefits_available                        0.057582  \n",
       "thinks_tech_supports_employees                         1.000000  "
      ]
     },
     "execution_count": 46,
     "metadata": {},
     "output_type": "execute_result"
    }
   ],
   "source": [
    "df_tech_support.corr(method='spearman')"
   ]
  },
  {
   "cell_type": "code",
   "execution_count": 47,
   "metadata": {},
   "outputs": [
    {
     "data": {
      "image/png": "[encoded data removed]",
      "text/plain": [
       "<Figure size 1000x400 with 1 Axes>"
      ]
     },
     "metadata": {},
     "output_type": "display_data"
    }
   ],
   "source": [
    "plt.figure(figsize=(10, 4))\n",
    "sns.pointplot(\n",
    "    data=df_tech_support, x='thinks_tech_supports_employees', y='knowledge_of_benefits_available',\n",
    "    errorbar=(\"ci\", 95), capsize=.1,\n",
    "    color=\"mediumseagreen\", linestyle=\"none\", orient='h'\n",
    ")\n",
    "plt.xlabel('How much tech supports employees, 1-5', labelpad=15)\n",
    "plt.xlim(1, 5)\n",
    "plt.ylabel('Aware of employer benefits', labelpad=15)\n",
    "plt.title('Tech company support towards employees, aware of benefits vs. not aware', pad=15)\n",
    "plt.show()"
   ]
  },
  {
   "cell_type": "markdown",
   "metadata": {},
   "source": [
    "Again, we see no strong correlation between two variables. This further strenghtens our intuition that  workplace culture is somewhat insufficient to reveal people's perception on mental health and its issues or treatment. That doesn't prove that employers shouldn't invest in employees support, yet it is vital to understand that the complexity of the issue transcends the workplace and maintaining the work-life balance is crucial."
   ]
  },
  {
   "cell_type": "markdown",
   "metadata": {},
   "source": [
    "### 8. Remote work affects the prevalence of mental disorder\n",
    "Features to use: `has_mental_d_currently`, `works_remotely`"
   ]
  },
  {
   "cell_type": "code",
   "execution_count": 48,
   "metadata": {},
   "outputs": [
    {
     "data": {
      "text/html": [
       "<div>\n",
       "<style scoped>\n",
       "    .dataframe tbody tr th:only-of-type {\n",
       "        vertical-align: middle;\n",
       "    }\n",
       "\n",
       "    .dataframe tbody tr th {\n",
       "        vertical-align: top;\n",
       "    }\n",
       "\n",
       "    .dataframe thead th {\n",
       "        text-align: right;\n",
       "    }\n",
       "</style>\n",
       "<table border=\"1\" class=\"dataframe\">\n",
       "  <thead>\n",
       "    <tr style=\"text-align: right;\">\n",
       "      <th></th>\n",
       "      <th>has_mental_d_currently</th>\n",
       "      <th>works_remotely</th>\n",
       "    </tr>\n",
       "  </thead>\n",
       "  <tbody>\n",
       "    <tr>\n",
       "      <th>1260</th>\n",
       "      <td>No</td>\n",
       "      <td>Sometimes</td>\n",
       "    </tr>\n",
       "    <tr>\n",
       "      <th>1261</th>\n",
       "      <td>Yes</td>\n",
       "      <td>Never</td>\n",
       "    </tr>\n",
       "    <tr>\n",
       "      <th>1262</th>\n",
       "      <td>No</td>\n",
       "      <td>Always</td>\n",
       "    </tr>\n",
       "    <tr>\n",
       "      <th>1263</th>\n",
       "      <td>Yes</td>\n",
       "      <td>Sometimes</td>\n",
       "    </tr>\n",
       "    <tr>\n",
       "      <th>1264</th>\n",
       "      <td>Yes</td>\n",
       "      <td>Sometimes</td>\n",
       "    </tr>\n",
       "  </tbody>\n",
       "</table>\n",
       "</div>"
      ],
      "text/plain": [
       "     has_mental_d_currently works_remotely\n",
       "1260                     No      Sometimes\n",
       "1261                    Yes          Never\n",
       "1262                     No         Always\n",
       "1263                    Yes      Sometimes\n",
       "1264                    Yes      Sometimes"
      ]
     },
     "execution_count": 48,
     "metadata": {},
     "output_type": "execute_result"
    }
   ],
   "source": [
    "df_remote = df_2016[['has_mental_d_currently', 'works_remotely']]\n",
    "df_remote.head()"
   ]
  },
  {
   "cell_type": "code",
   "execution_count": 49,
   "metadata": {},
   "outputs": [
    {
     "data": {
      "text/plain": [
       "has_mental_d_currently\n",
       "Yes      575\n",
       "No       529\n",
       "Maybe    326\n",
       "Name: count, dtype: int64"
      ]
     },
     "execution_count": 49,
     "metadata": {},
     "output_type": "execute_result"
    }
   ],
   "source": [
    "df_remote['has_mental_d_currently'].value_counts()"
   ]
  },
  {
   "cell_type": "code",
   "execution_count": 50,
   "metadata": {},
   "outputs": [
    {
     "data": {
      "text/plain": [
       "works_remotely\n",
       "Sometimes    755\n",
       "Always       342\n",
       "Never        333\n",
       "Name: count, dtype: int64"
      ]
     },
     "execution_count": 50,
     "metadata": {},
     "output_type": "execute_result"
    }
   ],
   "source": [
    "df_remote['works_remotely'].value_counts()"
   ]
  },
  {
   "cell_type": "code",
   "execution_count": 51,
   "metadata": {},
   "outputs": [
    {
     "data": {
      "text/html": [
       "<div>\n",
       "<style scoped>\n",
       "    .dataframe tbody tr th:only-of-type {\n",
       "        vertical-align: middle;\n",
       "    }\n",
       "\n",
       "    .dataframe tbody tr th {\n",
       "        vertical-align: top;\n",
       "    }\n",
       "\n",
       "    .dataframe thead th {\n",
       "        text-align: right;\n",
       "    }\n",
       "</style>\n",
       "<table border=\"1\" class=\"dataframe\">\n",
       "  <thead>\n",
       "    <tr style=\"text-align: right;\">\n",
       "      <th></th>\n",
       "      <th>has_mental_d_currently</th>\n",
       "      <th>works_remotely</th>\n",
       "    </tr>\n",
       "  </thead>\n",
       "  <tbody>\n",
       "    <tr>\n",
       "      <th>has_mental_d_currently</th>\n",
       "      <td>1.000000</td>\n",
       "      <td>0.056045</td>\n",
       "    </tr>\n",
       "    <tr>\n",
       "      <th>works_remotely</th>\n",
       "      <td>0.056045</td>\n",
       "      <td>1.000000</td>\n",
       "    </tr>\n",
       "  </tbody>\n",
       "</table>\n",
       "</div>"
      ],
      "text/plain": [
       "                        has_mental_d_currently  works_remotely\n",
       "has_mental_d_currently                1.000000        0.056045\n",
       "works_remotely                        0.056045        1.000000"
      ]
     },
     "execution_count": 51,
     "metadata": {},
     "output_type": "execute_result"
    }
   ],
   "source": [
    "df_remote.apply(lambda x: x.factorize()[0]).corr()\n"
   ]
  },
  {
   "cell_type": "markdown",
   "metadata": {},
   "source": [
    "The factorized correlation shows no direct relationship between the variables. However, maybe we could perform similar operations with perceived rather than diagnosed mental diseases?"
   ]
  },
  {
   "cell_type": "code",
   "execution_count": 52,
   "metadata": {},
   "outputs": [
    {
     "data": {
      "text/html": [
       "<div>\n",
       "<style scoped>\n",
       "    .dataframe tbody tr th:only-of-type {\n",
       "        vertical-align: middle;\n",
       "    }\n",
       "\n",
       "    .dataframe tbody tr th {\n",
       "        vertical-align: top;\n",
       "    }\n",
       "\n",
       "    .dataframe thead th {\n",
       "        text-align: right;\n",
       "    }\n",
       "</style>\n",
       "<table border=\"1\" class=\"dataframe\">\n",
       "  <thead>\n",
       "    <tr style=\"text-align: right;\">\n",
       "      <th></th>\n",
       "      <th>conditions_believes_has</th>\n",
       "      <th>works_remotely</th>\n",
       "    </tr>\n",
       "  </thead>\n",
       "  <tbody>\n",
       "    <tr>\n",
       "      <th>conditions_believes_has</th>\n",
       "      <td>1.000000</td>\n",
       "      <td>-0.003381</td>\n",
       "    </tr>\n",
       "    <tr>\n",
       "      <th>works_remotely</th>\n",
       "      <td>-0.003381</td>\n",
       "      <td>1.000000</td>\n",
       "    </tr>\n",
       "  </tbody>\n",
       "</table>\n",
       "</div>"
      ],
      "text/plain": [
       "                         conditions_believes_has  works_remotely\n",
       "conditions_believes_has                 1.000000       -0.003381\n",
       "works_remotely                         -0.003381        1.000000"
      ]
     },
     "execution_count": 52,
     "metadata": {},
     "output_type": "execute_result"
    }
   ],
   "source": [
    "df_perceived = df_2016[['conditions_believes_has', 'works_remotely']]\n",
    "df_perceived.apply(lambda x: x.factorize()[0]).corr()\n"
   ]
  },
  {
   "cell_type": "markdown",
   "metadata": {},
   "source": [
    "The negative correlation is even weaker. Let's clean the data a bit."
   ]
  },
  {
   "cell_type": "code",
   "execution_count": 53,
   "metadata": {},
   "outputs": [
    {
     "name": "stderr",
     "output_type": "stream",
     "text": [
      "/var/folders/7j/0j88jv2s5njcjv6hwgj4j51w0000gn/T/ipykernel_13534/531366614.py:5: FutureWarning: Downcasting behavior in `replace` is deprecated and will be removed in a future version. To retain the old behavior, explicitly call `result.infer_objects(copy=False)`. To opt-in to the future behavior, set `pd.set_option('future.no_silent_downcasting', True)`\n",
      "  df_remote = df_remote.replace(old_values, new_values)\n"
     ]
    },
    {
     "data": {
      "text/html": [
       "<div>\n",
       "<style scoped>\n",
       "    .dataframe tbody tr th:only-of-type {\n",
       "        vertical-align: middle;\n",
       "    }\n",
       "\n",
       "    .dataframe tbody tr th {\n",
       "        vertical-align: top;\n",
       "    }\n",
       "\n",
       "    .dataframe thead th {\n",
       "        text-align: right;\n",
       "    }\n",
       "</style>\n",
       "<table border=\"1\" class=\"dataframe\">\n",
       "  <thead>\n",
       "    <tr style=\"text-align: right;\">\n",
       "      <th></th>\n",
       "      <th>has_mental_d_currently</th>\n",
       "      <th>works_remotely</th>\n",
       "    </tr>\n",
       "  </thead>\n",
       "  <tbody>\n",
       "    <tr>\n",
       "      <th>has_mental_d_currently</th>\n",
       "      <td>1.000000</td>\n",
       "      <td>-0.005074</td>\n",
       "    </tr>\n",
       "    <tr>\n",
       "      <th>works_remotely</th>\n",
       "      <td>-0.005074</td>\n",
       "      <td>1.000000</td>\n",
       "    </tr>\n",
       "  </tbody>\n",
       "</table>\n",
       "</div>"
      ],
      "text/plain": [
       "                        has_mental_d_currently  works_remotely\n",
       "has_mental_d_currently                1.000000       -0.005074\n",
       "works_remotely                       -0.005074        1.000000"
      ]
     },
     "execution_count": 53,
     "metadata": {},
     "output_type": "execute_result"
    }
   ],
   "source": [
    "# convert categories to int values\n",
    "\n",
    "old_values = ['Yes', 'No', 'Maybe', 'Sometimes', 'Always', 'Never']\n",
    "new_values = [1, 0, 0, 0, 1, 0]\n",
    "df_remote = df_remote.replace(old_values, new_values)\n",
    "df_remote.corr()"
   ]
  },
  {
   "cell_type": "markdown",
   "metadata": {},
   "source": [
    "We can conclude that working remotely – at least, from this data, – doesn't show any relationship with potential deterioration of mental health. We now proceed to our latest part of the exploration, indicating the occurences of several mental diseases."
   ]
  },
  {
   "cell_type": "markdown",
   "metadata": {},
   "source": [
    "## 04 Attempt at inference: the prevalence of mental diseases\n",
    "\n",
    "In the last section of our exploration, we aim to see the proportion of mental diseases in the sample and attempt to count the confidence interval, infering preliminary insights about the populations. Some things to be aware of here:\n",
    "- dataset focuses on tech industry employees;\n",
    "- dataset overrepresents males, even though this might be just the realities of the tech industry;\n",
    "- dataset is dominated by back-enders;\n",
    "- we only operate with data from 2016 here."
   ]
  },
  {
   "cell_type": "code",
   "execution_count": 54,
   "metadata": {},
   "outputs": [
    {
     "data": {
      "text/plain": [
       "conditions_diagnosed_with\n",
       "-1                                                                                                                                                           862\n",
       "Anxiety Disorder (Generalized, Social, Phobia, etc)                                                                                                          319\n",
       "Mood Disorder (Depression, Bipolar Disorder, etc)                                                                                                            114\n",
       "Attention Deficit Hyperactivity Disorder                                                                                                                      56\n",
       "Addictive Disorder                                                                                                                                            35\n",
       "Post-traumatic Stress Disorder                                                                                                                                 8\n",
       "Psychotic Disorder (Schizophrenia, Schizoaffective, etc)                                                                                                       5\n",
       "Eating Disorder (Anorexia, Bulimia, etc)                                                                                                                       5\n",
       "Obsessive-Compulsive Disorder                                                                                                                                  4\n",
       "Personality Disorder (Borderline, Antisocial, Paranoid, etc)                                                                                                   3\n",
       "Stress Response Syndromes                                                                                                                                      2\n",
       "Dissociative Disorder                                                                                                                                          2\n",
       "ADD (w/o Hyperactivity)                                                                                                                                        1\n",
       "Autism Spectrum Disorder                                                                                                                                       1\n",
       "Sleeping Disorder                                                                                                                                              1\n",
       "Combination of physical impairment (strongly near-sighted) with a possibly mental one (MCD / \"ADHD\", though its actually a stimulus filtering impairment)      1\n",
       "Sexual addiction                                                                                                                                               1\n",
       "I haven't been formally diagnosed, so I felt uncomfortable answering, but Social Anxiety and Depression.                                                       1\n",
       "Traumatic Brain Injury                                                                                                                                         1\n",
       "Substance Use Disorder                                                                                                                                         1\n",
       "Gender Dysphoria                                                                                                                                               1\n",
       "Autism (Asperger's)                                                                                                                                            1\n",
       "Depression                                                                                                                                                     1\n",
       "PDD-NOS                                                                                                                                                        1\n",
       "Burn out                                                                                                                                                       1\n",
       "Seasonal Affective Disorder                                                                                                                                    1\n",
       "Schizotypal Personality Disorder                                                                                                                               1\n",
       "Name: count, dtype: int64"
      ]
     },
     "execution_count": 54,
     "metadata": {},
     "output_type": "execute_result"
    }
   ],
   "source": [
    "diagnosis = df_2016['conditions_diagnosed_with']\n",
    "diagnosis.value_counts()"
   ]
  },
  {
   "cell_type": "markdown",
   "metadata": {},
   "source": [
    "Seeing this, let's focus our efforts on three most prevalent diseases. Those are:\n",
    "- Anxiety Disorder (Generalized, Social, Phobia, etc);\n",
    "- Mood Disorder (Depression, Bipolar Disorder, etc);\n",
    "- Attention Deficit Hyperactivity Disorder\n",
    "\n",
    "Proportionally, it looks like this:"
   ]
  },
  {
   "cell_type": "code",
   "execution_count": 55,
   "metadata": {},
   "outputs": [
    {
     "name": "stdout",
     "output_type": "stream",
     "text": [
      "Count: \n",
      "conditions_diagnosed_with\n",
      "Anxiety Disorder (Generalized, Social, Phobia, etc)    319\n",
      "Mood Disorder (Depression, Bipolar Disorder, etc)      114\n",
      "Attention Deficit Hyperactivity Disorder                56\n",
      "Name: count, dtype: int64\n",
      "\n",
      "\n",
      "Percentage: \n",
      "conditions_diagnosed_with\n",
      "Anxiety Disorder (Generalized, Social, Phobia, etc)    22.31\n",
      "Mood Disorder (Depression, Bipolar Disorder, etc)       7.97\n",
      "Attention Deficit Hyperactivity Disorder                3.92\n",
      "Name: proportion, dtype: float64\n",
      "\n",
      "\n",
      "Full sample: 1430\n"
     ]
    }
   ],
   "source": [
    "series = diagnosis.value_counts().head(4)\n",
    "normalized_series = diagnosis.value_counts(normalize=True).head(4) * 100\n",
    "print('Count: ')\n",
    "print(series.iloc[1:4])\n",
    "print('\\n')\n",
    "print('Percentage: ')\n",
    "print(normalized_series.iloc[1:4].round(2))\n",
    "print('\\n')\n",
    "print(f'Full sample: {diagnosis.shape[0]}')"
   ]
  },
  {
   "cell_type": "code",
   "execution_count": 74,
   "metadata": {},
   "outputs": [
    {
     "name": "stdout",
     "output_type": "stream",
     "text": [
      "CI low and high value for anxiety: (0.2014996575574633, 0.24465418859638288)\n",
      "CI low and high value for mood disorders: (0.06568166015671958, 0.09375889928383985)\n",
      "CI low and high value for ADHD: (0.029107012003413514, 0.049214666318264814)\n"
     ]
    }
   ],
   "source": [
    "from statsmodels.stats import proportion\n",
    "\n",
    "anxiety = proportion.proportion_confint(series.iloc[1], nobs=diagnosis.shape[0])\n",
    "mood = proportion.proportion_confint(series.iloc[2], nobs=diagnosis.shape[0])\n",
    "adhd = proportion.proportion_confint(series.iloc[3], nobs=diagnosis.shape[0])\n",
    "\n",
    "print(f'CI low and high value for anxiety: {anxiety}')\n",
    "print(f'CI low and high value for mood disorders: {mood}')\n",
    "print(f'CI low and high value for ADHD: {adhd}')"
   ]
  },
  {
   "cell_type": "code",
   "execution_count": 57,
   "metadata": {},
   "outputs": [
    {
     "name": "stdout",
     "output_type": "stream",
     "text": [
      "Anxiety distribution: \n",
      "Proportion of sample: 22.308\n",
      "Conf. interval low: 20.14996575574633\n",
      "Conf. interval high: 24.465418859638287\n",
      "\n",
      "\n",
      "Mood disorder distribution: \n",
      "Proportion of sample: 7.972\n",
      "Conf. interval low: 6.568166015671959\n",
      "Conf. interval high: 9.375889928383984\n",
      "\n",
      "\n",
      "ADHD distribution: \n",
      "Proportion of sample: 3.916\n",
      "Conf. interval low: 2.9107012003413515\n",
      "Conf. interval high: 4.9214666318264815\n"
     ]
    }
   ],
   "source": [
    "print(\"Anxiety distribution: \")\n",
    "print(f'Proportion of sample: {normalized_series.iloc[1].round(3)}')\n",
    "print(f'Conf. interval low: {anxiety[0] * 100}')\n",
    "print(f'Conf. interval high: {anxiety[1] * 100}')\n",
    "print('\\n')\n",
    "print(\"Mood disorder distribution: \")\n",
    "print(f'Proportion of sample: {normalized_series.iloc[2].round(3)}')\n",
    "print(f'Conf. interval low: {mood[0] * 100}')\n",
    "print(f'Conf. interval high: {mood[1] * 100}')\n",
    "print('\\n')\n",
    "print(\"ADHD distribution: \")\n",
    "print(f'Proportion of sample: {normalized_series.iloc[3].round(3)}')\n",
    "print(f'Conf. interval low: {adhd[0] * 100}')\n",
    "print(f'Conf. interval high: {adhd[1] * 100}')"
   ]
  },
  {
   "cell_type": "code",
   "execution_count": 58,
   "metadata": {},
   "outputs": [],
   "source": [
    "# converting diagnosis to dummy variables\n",
    "diagnosis_freq = pd.get_dummies(pd.DataFrame(diagnosis), dtype=int)\n",
    "diagnosis_freq = diagnosis_freq[['conditions_diagnosed_with_Anxiety Disorder (Generalized, Social, Phobia, etc)', 'conditions_diagnosed_with_Mood Disorder (Depression, Bipolar Disorder, etc)', 'conditions_diagnosed_with_Attention Deficit Hyperactivity Disorder']]\n",
    "diagnosis_freq = diagnosis_freq.rename({\n",
    "    'conditions_diagnosed_with_Anxiety Disorder (Generalized, Social, Phobia, etc)': 'Anxiety',\n",
    "    'conditions_diagnosed_with_Mood Disorder (Depression, Bipolar Disorder, etc)': 'Mood',\n",
    "    'conditions_diagnosed_with_Attention Deficit Hyperactivity Disorder': 'ADHD'\n",
    "}, axis=1)"
   ]
  },
  {
   "cell_type": "code",
   "execution_count": 59,
   "metadata": {},
   "outputs": [
    {
     "data": {
      "image/png": "[encoded data removed]",
      "text/plain": [
       "<Figure size 1000x400 with 1 Axes>"
      ]
     },
     "metadata": {},
     "output_type": "display_data"
    }
   ],
   "source": [
    "df_melted = pd.melt(diagnosis_freq, value_vars=['Anxiety', 'Mood', 'ADHD'], var_name='disorder', value_name='mean')\n",
    "\n",
    "plt.figure(figsize=(10, 4))\n",
    "sns.pointplot(\n",
    "    data=df_melted, x='mean', y='disorder',\n",
    "    errorbar=(\"ci\", 95), capsize=.1,\n",
    "    color=\"mediumseagreen\", linestyle=\"none\", orient='h'\n",
    ")\n",
    "plt.xlabel('Proportion', labelpad=15)\n",
    "plt.xlim(0, 0.4)\n",
    "plt.ylabel('')\n",
    "plt.title('Porportion of diagnosed diseases, with confidence interval, given p=0.05', pad=15)\n",
    "plt.show()\n"
   ]
  },
  {
   "cell_type": "markdown",
   "metadata": {},
   "source": [
    "This tells us that while anxiety-related issues are most common, their confidence interval is also the largest and the most widespread. However, before making generalization about the general population, we should also take into account the aforementioned limitations of the dataset, given its biases and skewness. Also, remember that data here is not randomized and collected via open online survey. "
   ]
  },
  {
   "cell_type": "markdown",
   "metadata": {},
   "source": [
    "## 05 Summary\n",
    "\n",
    "1. The data is made up of 5 different year surveys, with increasing/changing questions each year. The overall sample is biased as is it is collected without random selection and relies on participation of the respondents in the online survey.\n",
    "2. The majority of respondents are male, with most of overall sample falling between 20 and 40 years of age. So we have a male-dominant sample of younger population, which _might_ reflect the state in the technology industry, but it has to confirmed with another probability sample. The majority of respondents come from the US. The leading role is back-end developer, with other positions underrepresented in the whole sample.\n",
    "3. Data shows that people are more comfortable sharing about their mental health with relatives rather than colleagues or supervisors. \n",
    "4. If mental diseases affect the productivity, it mostly falls between 0-50%. However, this is a respondent-reported data rather than 'hard' observation-based insight.\n",
    "4. The impact on work when the disease is treated vs. untreated shows the importance of workplace culture and mental health awareness. When the disease is addressed, it impacts the work relatively less than when left unattended. \n",
    "5. Mental health issues in family moderately correlates to diagnosis (0.45).\n",
    "6. Medical security, knowledge about help resources, employee benefits do not seem to influence the personal perception about mental health, meaning that while workplace culture is important, it doesn't necessearily play the most important role in one's uderstanding of personal health.\n",
    "7. Finally, from 2016 dataset we see than anxiety disorders, mood disorders and ADHD are the most popular diagnosed reported cases of mental health issues. We attempted to plot the distribution with confidence intervals.\n",
    "\n",
    "### Areas of improvement\n",
    "\n",
    "1. We deliberately selected limited scope of questions to analyze, leaving a somewhat larger chunk of data behind. To delve into the questions deeper, additional questions could be addressed – how changing employer influences the overall emotional and psychological wellbeing? how data evolves year-by-year? \n",
    "2. We could normalize data, using some socio-demographics as a leverage, to better reflect the population; however, we should still address the caveat of data _maybe_ reflecting the distribution of age and gender in tech industry.\n",
    "3. We could introduce more questions related to employer's standing on the issue of mental health, to better understand growing or declining importance over the years. \n",
    "4. The analysis of open questions (decriptions) could also benefit us in raising more accurate, targetted hypotheses."
   ]
  }
 ],
 "metadata": {
  "kernelspec": {
   "display_name": "Python 3 (ipykernel)",
   "language": "python",
   "name": "python3"
  },
  "language_info": {
   "codemirror_mode": {
    "name": "ipython",
    "version": 3
   },
   "file_extension": ".py",
   "mimetype": "text/x-python",
   "name": "python",
   "nbconvert_exporter": "python",
   "pygments_lexer": "ipython3",
   "version": "3.11.9"
  }
 },
 "nbformat": 4,
 "nbformat_minor": 4
}
